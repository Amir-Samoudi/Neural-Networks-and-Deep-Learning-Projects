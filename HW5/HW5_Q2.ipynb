{
  "nbformat": 4,
  "nbformat_minor": 0,
  "metadata": {
    "colab": {
      "provenance": [],
      "toc_visible": true,
      "gpuType": "T4"
    },
    "kernelspec": {
      "name": "python3",
      "display_name": "Python 3"
    },
    "language_info": {
      "name": "python"
    },
    "accelerator": "GPU",
    "widgets": {
      "application/vnd.jupyter.widget-state+json": {
        "90544c08448a4da2b65191f1c09d8530": {
          "model_module": "@jupyter-widgets/controls",
          "model_name": "HBoxModel",
          "model_module_version": "1.5.0",
          "state": {
            "_dom_classes": [],
            "_model_module": "@jupyter-widgets/controls",
            "_model_module_version": "1.5.0",
            "_model_name": "HBoxModel",
            "_view_count": null,
            "_view_module": "@jupyter-widgets/controls",
            "_view_module_version": "1.5.0",
            "_view_name": "HBoxView",
            "box_style": "",
            "children": [
              "IPY_MODEL_64a319ecfd2f4eca844b2a6dc330daae",
              "IPY_MODEL_f5990ef55ca1415a953040e1cf669735",
              "IPY_MODEL_66a93a01757e40be8bc37714d3a593a2"
            ],
            "layout": "IPY_MODEL_7562cfe193cd435bb2e03707970f3e49"
          }
        },
        "64a319ecfd2f4eca844b2a6dc330daae": {
          "model_module": "@jupyter-widgets/controls",
          "model_name": "HTMLModel",
          "model_module_version": "1.5.0",
          "state": {
            "_dom_classes": [],
            "_model_module": "@jupyter-widgets/controls",
            "_model_module_version": "1.5.0",
            "_model_name": "HTMLModel",
            "_view_count": null,
            "_view_module": "@jupyter-widgets/controls",
            "_view_module_version": "1.5.0",
            "_view_name": "HTMLView",
            "description": "",
            "description_tooltip": null,
            "layout": "IPY_MODEL_ec17cf6edbbc4a4db967d3111da8e908",
            "placeholder": "​",
            "style": "IPY_MODEL_8bb46de8259f4c45af7c5312b850b888",
            "value": "config.json: 100%"
          }
        },
        "f5990ef55ca1415a953040e1cf669735": {
          "model_module": "@jupyter-widgets/controls",
          "model_name": "FloatProgressModel",
          "model_module_version": "1.5.0",
          "state": {
            "_dom_classes": [],
            "_model_module": "@jupyter-widgets/controls",
            "_model_module_version": "1.5.0",
            "_model_name": "FloatProgressModel",
            "_view_count": null,
            "_view_module": "@jupyter-widgets/controls",
            "_view_module_version": "1.5.0",
            "_view_name": "ProgressView",
            "bar_style": "success",
            "description": "",
            "description_tooltip": null,
            "layout": "IPY_MODEL_872257d5e12a479ab5b38f9cb88a233d",
            "max": 4186,
            "min": 0,
            "orientation": "horizontal",
            "style": "IPY_MODEL_1749886f28944750a996c8716c10366d",
            "value": 4186
          }
        },
        "66a93a01757e40be8bc37714d3a593a2": {
          "model_module": "@jupyter-widgets/controls",
          "model_name": "HTMLModel",
          "model_module_version": "1.5.0",
          "state": {
            "_dom_classes": [],
            "_model_module": "@jupyter-widgets/controls",
            "_model_module_version": "1.5.0",
            "_model_name": "HTMLModel",
            "_view_count": null,
            "_view_module": "@jupyter-widgets/controls",
            "_view_module_version": "1.5.0",
            "_view_name": "HTMLView",
            "description": "",
            "description_tooltip": null,
            "layout": "IPY_MODEL_bf7513f7fba944b7be4523055511dc21",
            "placeholder": "​",
            "style": "IPY_MODEL_950cc8165fd54b0b91e722fb984d8a5d",
            "value": " 4.19k/4.19k [00:00&lt;00:00, 265kB/s]"
          }
        },
        "7562cfe193cd435bb2e03707970f3e49": {
          "model_module": "@jupyter-widgets/base",
          "model_name": "LayoutModel",
          "model_module_version": "1.2.0",
          "state": {
            "_model_module": "@jupyter-widgets/base",
            "_model_module_version": "1.2.0",
            "_model_name": "LayoutModel",
            "_view_count": null,
            "_view_module": "@jupyter-widgets/base",
            "_view_module_version": "1.2.0",
            "_view_name": "LayoutView",
            "align_content": null,
            "align_items": null,
            "align_self": null,
            "border": null,
            "bottom": null,
            "display": null,
            "flex": null,
            "flex_flow": null,
            "grid_area": null,
            "grid_auto_columns": null,
            "grid_auto_flow": null,
            "grid_auto_rows": null,
            "grid_column": null,
            "grid_gap": null,
            "grid_row": null,
            "grid_template_areas": null,
            "grid_template_columns": null,
            "grid_template_rows": null,
            "height": null,
            "justify_content": null,
            "justify_items": null,
            "left": null,
            "margin": null,
            "max_height": null,
            "max_width": null,
            "min_height": null,
            "min_width": null,
            "object_fit": null,
            "object_position": null,
            "order": null,
            "overflow": null,
            "overflow_x": null,
            "overflow_y": null,
            "padding": null,
            "right": null,
            "top": null,
            "visibility": null,
            "width": null
          }
        },
        "ec17cf6edbbc4a4db967d3111da8e908": {
          "model_module": "@jupyter-widgets/base",
          "model_name": "LayoutModel",
          "model_module_version": "1.2.0",
          "state": {
            "_model_module": "@jupyter-widgets/base",
            "_model_module_version": "1.2.0",
            "_model_name": "LayoutModel",
            "_view_count": null,
            "_view_module": "@jupyter-widgets/base",
            "_view_module_version": "1.2.0",
            "_view_name": "LayoutView",
            "align_content": null,
            "align_items": null,
            "align_self": null,
            "border": null,
            "bottom": null,
            "display": null,
            "flex": null,
            "flex_flow": null,
            "grid_area": null,
            "grid_auto_columns": null,
            "grid_auto_flow": null,
            "grid_auto_rows": null,
            "grid_column": null,
            "grid_gap": null,
            "grid_row": null,
            "grid_template_areas": null,
            "grid_template_columns": null,
            "grid_template_rows": null,
            "height": null,
            "justify_content": null,
            "justify_items": null,
            "left": null,
            "margin": null,
            "max_height": null,
            "max_width": null,
            "min_height": null,
            "min_width": null,
            "object_fit": null,
            "object_position": null,
            "order": null,
            "overflow": null,
            "overflow_x": null,
            "overflow_y": null,
            "padding": null,
            "right": null,
            "top": null,
            "visibility": null,
            "width": null
          }
        },
        "8bb46de8259f4c45af7c5312b850b888": {
          "model_module": "@jupyter-widgets/controls",
          "model_name": "DescriptionStyleModel",
          "model_module_version": "1.5.0",
          "state": {
            "_model_module": "@jupyter-widgets/controls",
            "_model_module_version": "1.5.0",
            "_model_name": "DescriptionStyleModel",
            "_view_count": null,
            "_view_module": "@jupyter-widgets/base",
            "_view_module_version": "1.2.0",
            "_view_name": "StyleView",
            "description_width": ""
          }
        },
        "872257d5e12a479ab5b38f9cb88a233d": {
          "model_module": "@jupyter-widgets/base",
          "model_name": "LayoutModel",
          "model_module_version": "1.2.0",
          "state": {
            "_model_module": "@jupyter-widgets/base",
            "_model_module_version": "1.2.0",
            "_model_name": "LayoutModel",
            "_view_count": null,
            "_view_module": "@jupyter-widgets/base",
            "_view_module_version": "1.2.0",
            "_view_name": "LayoutView",
            "align_content": null,
            "align_items": null,
            "align_self": null,
            "border": null,
            "bottom": null,
            "display": null,
            "flex": null,
            "flex_flow": null,
            "grid_area": null,
            "grid_auto_columns": null,
            "grid_auto_flow": null,
            "grid_auto_rows": null,
            "grid_column": null,
            "grid_gap": null,
            "grid_row": null,
            "grid_template_areas": null,
            "grid_template_columns": null,
            "grid_template_rows": null,
            "height": null,
            "justify_content": null,
            "justify_items": null,
            "left": null,
            "margin": null,
            "max_height": null,
            "max_width": null,
            "min_height": null,
            "min_width": null,
            "object_fit": null,
            "object_position": null,
            "order": null,
            "overflow": null,
            "overflow_x": null,
            "overflow_y": null,
            "padding": null,
            "right": null,
            "top": null,
            "visibility": null,
            "width": null
          }
        },
        "1749886f28944750a996c8716c10366d": {
          "model_module": "@jupyter-widgets/controls",
          "model_name": "ProgressStyleModel",
          "model_module_version": "1.5.0",
          "state": {
            "_model_module": "@jupyter-widgets/controls",
            "_model_module_version": "1.5.0",
            "_model_name": "ProgressStyleModel",
            "_view_count": null,
            "_view_module": "@jupyter-widgets/base",
            "_view_module_version": "1.2.0",
            "_view_name": "StyleView",
            "bar_color": null,
            "description_width": ""
          }
        },
        "bf7513f7fba944b7be4523055511dc21": {
          "model_module": "@jupyter-widgets/base",
          "model_name": "LayoutModel",
          "model_module_version": "1.2.0",
          "state": {
            "_model_module": "@jupyter-widgets/base",
            "_model_module_version": "1.2.0",
            "_model_name": "LayoutModel",
            "_view_count": null,
            "_view_module": "@jupyter-widgets/base",
            "_view_module_version": "1.2.0",
            "_view_name": "LayoutView",
            "align_content": null,
            "align_items": null,
            "align_self": null,
            "border": null,
            "bottom": null,
            "display": null,
            "flex": null,
            "flex_flow": null,
            "grid_area": null,
            "grid_auto_columns": null,
            "grid_auto_flow": null,
            "grid_auto_rows": null,
            "grid_column": null,
            "grid_gap": null,
            "grid_row": null,
            "grid_template_areas": null,
            "grid_template_columns": null,
            "grid_template_rows": null,
            "height": null,
            "justify_content": null,
            "justify_items": null,
            "left": null,
            "margin": null,
            "max_height": null,
            "max_width": null,
            "min_height": null,
            "min_width": null,
            "object_fit": null,
            "object_position": null,
            "order": null,
            "overflow": null,
            "overflow_x": null,
            "overflow_y": null,
            "padding": null,
            "right": null,
            "top": null,
            "visibility": null,
            "width": null
          }
        },
        "950cc8165fd54b0b91e722fb984d8a5d": {
          "model_module": "@jupyter-widgets/controls",
          "model_name": "DescriptionStyleModel",
          "model_module_version": "1.5.0",
          "state": {
            "_model_module": "@jupyter-widgets/controls",
            "_model_module_version": "1.5.0",
            "_model_name": "DescriptionStyleModel",
            "_view_count": null,
            "_view_module": "@jupyter-widgets/base",
            "_view_module_version": "1.2.0",
            "_view_name": "StyleView",
            "description_width": ""
          }
        },
        "8ce6a44b923a4484b2458a00c477d1e5": {
          "model_module": "@jupyter-widgets/controls",
          "model_name": "HBoxModel",
          "model_module_version": "1.5.0",
          "state": {
            "_dom_classes": [],
            "_model_module": "@jupyter-widgets/controls",
            "_model_module_version": "1.5.0",
            "_model_name": "HBoxModel",
            "_view_count": null,
            "_view_module": "@jupyter-widgets/controls",
            "_view_module_version": "1.5.0",
            "_view_name": "HBoxView",
            "box_style": "",
            "children": [
              "IPY_MODEL_58c32aee964249f7ade062fb1e760cfe",
              "IPY_MODEL_fdb6663421914e8e97a69f9d7e1d3876",
              "IPY_MODEL_5bf65088099d45f68d7959cab7a93fe3"
            ],
            "layout": "IPY_MODEL_be1908edc7904d86ab124a42e6a7b177"
          }
        },
        "58c32aee964249f7ade062fb1e760cfe": {
          "model_module": "@jupyter-widgets/controls",
          "model_name": "HTMLModel",
          "model_module_version": "1.5.0",
          "state": {
            "_dom_classes": [],
            "_model_module": "@jupyter-widgets/controls",
            "_model_module_version": "1.5.0",
            "_model_name": "HTMLModel",
            "_view_count": null,
            "_view_module": "@jupyter-widgets/controls",
            "_view_module_version": "1.5.0",
            "_view_name": "HTMLView",
            "description": "",
            "description_tooltip": null,
            "layout": "IPY_MODEL_c7d5b33b0d7642ceb6bc81bbec6f86cf",
            "placeholder": "​",
            "style": "IPY_MODEL_32b4ff6889f746d386bb465fa2f088a3",
            "value": "pytorch_model.bin: 100%"
          }
        },
        "fdb6663421914e8e97a69f9d7e1d3876": {
          "model_module": "@jupyter-widgets/controls",
          "model_name": "FloatProgressModel",
          "model_module_version": "1.5.0",
          "state": {
            "_dom_classes": [],
            "_model_module": "@jupyter-widgets/controls",
            "_model_module_version": "1.5.0",
            "_model_name": "FloatProgressModel",
            "_view_count": null,
            "_view_module": "@jupyter-widgets/controls",
            "_view_module_version": "1.5.0",
            "_view_name": "ProgressView",
            "bar_style": "success",
            "description": "",
            "description_tooltip": null,
            "layout": "IPY_MODEL_3a7cf4429afd4d2daef088841280cc27",
            "max": 605247071,
            "min": 0,
            "orientation": "horizontal",
            "style": "IPY_MODEL_790334b8f1d1466ea3a6a20e8b77f098",
            "value": 605247071
          }
        },
        "5bf65088099d45f68d7959cab7a93fe3": {
          "model_module": "@jupyter-widgets/controls",
          "model_name": "HTMLModel",
          "model_module_version": "1.5.0",
          "state": {
            "_dom_classes": [],
            "_model_module": "@jupyter-widgets/controls",
            "_model_module_version": "1.5.0",
            "_model_name": "HTMLModel",
            "_view_count": null,
            "_view_module": "@jupyter-widgets/controls",
            "_view_module_version": "1.5.0",
            "_view_name": "HTMLView",
            "description": "",
            "description_tooltip": null,
            "layout": "IPY_MODEL_d3afa479c5044936b3d17dd8d642b747",
            "placeholder": "​",
            "style": "IPY_MODEL_a8706c5d23854abd9c32ba77b5291d30",
            "value": " 605M/605M [00:02&lt;00:00, 302MB/s]"
          }
        },
        "be1908edc7904d86ab124a42e6a7b177": {
          "model_module": "@jupyter-widgets/base",
          "model_name": "LayoutModel",
          "model_module_version": "1.2.0",
          "state": {
            "_model_module": "@jupyter-widgets/base",
            "_model_module_version": "1.2.0",
            "_model_name": "LayoutModel",
            "_view_count": null,
            "_view_module": "@jupyter-widgets/base",
            "_view_module_version": "1.2.0",
            "_view_name": "LayoutView",
            "align_content": null,
            "align_items": null,
            "align_self": null,
            "border": null,
            "bottom": null,
            "display": null,
            "flex": null,
            "flex_flow": null,
            "grid_area": null,
            "grid_auto_columns": null,
            "grid_auto_flow": null,
            "grid_auto_rows": null,
            "grid_column": null,
            "grid_gap": null,
            "grid_row": null,
            "grid_template_areas": null,
            "grid_template_columns": null,
            "grid_template_rows": null,
            "height": null,
            "justify_content": null,
            "justify_items": null,
            "left": null,
            "margin": null,
            "max_height": null,
            "max_width": null,
            "min_height": null,
            "min_width": null,
            "object_fit": null,
            "object_position": null,
            "order": null,
            "overflow": null,
            "overflow_x": null,
            "overflow_y": null,
            "padding": null,
            "right": null,
            "top": null,
            "visibility": null,
            "width": null
          }
        },
        "c7d5b33b0d7642ceb6bc81bbec6f86cf": {
          "model_module": "@jupyter-widgets/base",
          "model_name": "LayoutModel",
          "model_module_version": "1.2.0",
          "state": {
            "_model_module": "@jupyter-widgets/base",
            "_model_module_version": "1.2.0",
            "_model_name": "LayoutModel",
            "_view_count": null,
            "_view_module": "@jupyter-widgets/base",
            "_view_module_version": "1.2.0",
            "_view_name": "LayoutView",
            "align_content": null,
            "align_items": null,
            "align_self": null,
            "border": null,
            "bottom": null,
            "display": null,
            "flex": null,
            "flex_flow": null,
            "grid_area": null,
            "grid_auto_columns": null,
            "grid_auto_flow": null,
            "grid_auto_rows": null,
            "grid_column": null,
            "grid_gap": null,
            "grid_row": null,
            "grid_template_areas": null,
            "grid_template_columns": null,
            "grid_template_rows": null,
            "height": null,
            "justify_content": null,
            "justify_items": null,
            "left": null,
            "margin": null,
            "max_height": null,
            "max_width": null,
            "min_height": null,
            "min_width": null,
            "object_fit": null,
            "object_position": null,
            "order": null,
            "overflow": null,
            "overflow_x": null,
            "overflow_y": null,
            "padding": null,
            "right": null,
            "top": null,
            "visibility": null,
            "width": null
          }
        },
        "32b4ff6889f746d386bb465fa2f088a3": {
          "model_module": "@jupyter-widgets/controls",
          "model_name": "DescriptionStyleModel",
          "model_module_version": "1.5.0",
          "state": {
            "_model_module": "@jupyter-widgets/controls",
            "_model_module_version": "1.5.0",
            "_model_name": "DescriptionStyleModel",
            "_view_count": null,
            "_view_module": "@jupyter-widgets/base",
            "_view_module_version": "1.2.0",
            "_view_name": "StyleView",
            "description_width": ""
          }
        },
        "3a7cf4429afd4d2daef088841280cc27": {
          "model_module": "@jupyter-widgets/base",
          "model_name": "LayoutModel",
          "model_module_version": "1.2.0",
          "state": {
            "_model_module": "@jupyter-widgets/base",
            "_model_module_version": "1.2.0",
            "_model_name": "LayoutModel",
            "_view_count": null,
            "_view_module": "@jupyter-widgets/base",
            "_view_module_version": "1.2.0",
            "_view_name": "LayoutView",
            "align_content": null,
            "align_items": null,
            "align_self": null,
            "border": null,
            "bottom": null,
            "display": null,
            "flex": null,
            "flex_flow": null,
            "grid_area": null,
            "grid_auto_columns": null,
            "grid_auto_flow": null,
            "grid_auto_rows": null,
            "grid_column": null,
            "grid_gap": null,
            "grid_row": null,
            "grid_template_areas": null,
            "grid_template_columns": null,
            "grid_template_rows": null,
            "height": null,
            "justify_content": null,
            "justify_items": null,
            "left": null,
            "margin": null,
            "max_height": null,
            "max_width": null,
            "min_height": null,
            "min_width": null,
            "object_fit": null,
            "object_position": null,
            "order": null,
            "overflow": null,
            "overflow_x": null,
            "overflow_y": null,
            "padding": null,
            "right": null,
            "top": null,
            "visibility": null,
            "width": null
          }
        },
        "790334b8f1d1466ea3a6a20e8b77f098": {
          "model_module": "@jupyter-widgets/controls",
          "model_name": "ProgressStyleModel",
          "model_module_version": "1.5.0",
          "state": {
            "_model_module": "@jupyter-widgets/controls",
            "_model_module_version": "1.5.0",
            "_model_name": "ProgressStyleModel",
            "_view_count": null,
            "_view_module": "@jupyter-widgets/base",
            "_view_module_version": "1.2.0",
            "_view_name": "StyleView",
            "bar_color": null,
            "description_width": ""
          }
        },
        "d3afa479c5044936b3d17dd8d642b747": {
          "model_module": "@jupyter-widgets/base",
          "model_name": "LayoutModel",
          "model_module_version": "1.2.0",
          "state": {
            "_model_module": "@jupyter-widgets/base",
            "_model_module_version": "1.2.0",
            "_model_name": "LayoutModel",
            "_view_count": null,
            "_view_module": "@jupyter-widgets/base",
            "_view_module_version": "1.2.0",
            "_view_name": "LayoutView",
            "align_content": null,
            "align_items": null,
            "align_self": null,
            "border": null,
            "bottom": null,
            "display": null,
            "flex": null,
            "flex_flow": null,
            "grid_area": null,
            "grid_auto_columns": null,
            "grid_auto_flow": null,
            "grid_auto_rows": null,
            "grid_column": null,
            "grid_gap": null,
            "grid_row": null,
            "grid_template_areas": null,
            "grid_template_columns": null,
            "grid_template_rows": null,
            "height": null,
            "justify_content": null,
            "justify_items": null,
            "left": null,
            "margin": null,
            "max_height": null,
            "max_width": null,
            "min_height": null,
            "min_width": null,
            "object_fit": null,
            "object_position": null,
            "order": null,
            "overflow": null,
            "overflow_x": null,
            "overflow_y": null,
            "padding": null,
            "right": null,
            "top": null,
            "visibility": null,
            "width": null
          }
        },
        "a8706c5d23854abd9c32ba77b5291d30": {
          "model_module": "@jupyter-widgets/controls",
          "model_name": "DescriptionStyleModel",
          "model_module_version": "1.5.0",
          "state": {
            "_model_module": "@jupyter-widgets/controls",
            "_model_module_version": "1.5.0",
            "_model_name": "DescriptionStyleModel",
            "_view_count": null,
            "_view_module": "@jupyter-widgets/base",
            "_view_module_version": "1.2.0",
            "_view_name": "StyleView",
            "description_width": ""
          }
        },
        "5ebd04250766428e844292559836f404": {
          "model_module": "@jupyter-widgets/controls",
          "model_name": "HBoxModel",
          "model_module_version": "1.5.0",
          "state": {
            "_dom_classes": [],
            "_model_module": "@jupyter-widgets/controls",
            "_model_module_version": "1.5.0",
            "_model_name": "HBoxModel",
            "_view_count": null,
            "_view_module": "@jupyter-widgets/controls",
            "_view_module_version": "1.5.0",
            "_view_name": "HBoxView",
            "box_style": "",
            "children": [
              "IPY_MODEL_69db7cddd8dc40b98771e0009ae5d4f3",
              "IPY_MODEL_ae6a7f5315524c7ba8038c09f6d5ac00",
              "IPY_MODEL_ca9ad8c308e54ebca948db3a4cca538d"
            ],
            "layout": "IPY_MODEL_cdc5b7fd2f3a4e438bbabc5b6d7e8437"
          }
        },
        "69db7cddd8dc40b98771e0009ae5d4f3": {
          "model_module": "@jupyter-widgets/controls",
          "model_name": "HTMLModel",
          "model_module_version": "1.5.0",
          "state": {
            "_dom_classes": [],
            "_model_module": "@jupyter-widgets/controls",
            "_model_module_version": "1.5.0",
            "_model_name": "HTMLModel",
            "_view_count": null,
            "_view_module": "@jupyter-widgets/controls",
            "_view_module_version": "1.5.0",
            "_view_name": "HTMLView",
            "description": "",
            "description_tooltip": null,
            "layout": "IPY_MODEL_12a15138ad334698a4c7ad0f887203eb",
            "placeholder": "​",
            "style": "IPY_MODEL_bff1f76f2316428c94346f9a815cd023",
            "value": "model.safetensors: 100%"
          }
        },
        "ae6a7f5315524c7ba8038c09f6d5ac00": {
          "model_module": "@jupyter-widgets/controls",
          "model_name": "FloatProgressModel",
          "model_module_version": "1.5.0",
          "state": {
            "_dom_classes": [],
            "_model_module": "@jupyter-widgets/controls",
            "_model_module_version": "1.5.0",
            "_model_name": "FloatProgressModel",
            "_view_count": null,
            "_view_module": "@jupyter-widgets/controls",
            "_view_module_version": "1.5.0",
            "_view_name": "ProgressView",
            "bar_style": "success",
            "description": "",
            "description_tooltip": null,
            "layout": "IPY_MODEL_860345411fda4532af5510386f04f528",
            "max": 605157884,
            "min": 0,
            "orientation": "horizontal",
            "style": "IPY_MODEL_00366606dc9b41abb230b51ddee7c92f",
            "value": 605157884
          }
        },
        "ca9ad8c308e54ebca948db3a4cca538d": {
          "model_module": "@jupyter-widgets/controls",
          "model_name": "HTMLModel",
          "model_module_version": "1.5.0",
          "state": {
            "_dom_classes": [],
            "_model_module": "@jupyter-widgets/controls",
            "_model_module_version": "1.5.0",
            "_model_name": "HTMLModel",
            "_view_count": null,
            "_view_module": "@jupyter-widgets/controls",
            "_view_module_version": "1.5.0",
            "_view_name": "HTMLView",
            "description": "",
            "description_tooltip": null,
            "layout": "IPY_MODEL_5dc222b2a9de48c18f962f6864450267",
            "placeholder": "​",
            "style": "IPY_MODEL_0ef6d19253204355a19f60c6308d6bc5",
            "value": " 605M/605M [00:02&lt;00:00, 187MB/s]"
          }
        },
        "cdc5b7fd2f3a4e438bbabc5b6d7e8437": {
          "model_module": "@jupyter-widgets/base",
          "model_name": "LayoutModel",
          "model_module_version": "1.2.0",
          "state": {
            "_model_module": "@jupyter-widgets/base",
            "_model_module_version": "1.2.0",
            "_model_name": "LayoutModel",
            "_view_count": null,
            "_view_module": "@jupyter-widgets/base",
            "_view_module_version": "1.2.0",
            "_view_name": "LayoutView",
            "align_content": null,
            "align_items": null,
            "align_self": null,
            "border": null,
            "bottom": null,
            "display": null,
            "flex": null,
            "flex_flow": null,
            "grid_area": null,
            "grid_auto_columns": null,
            "grid_auto_flow": null,
            "grid_auto_rows": null,
            "grid_column": null,
            "grid_gap": null,
            "grid_row": null,
            "grid_template_areas": null,
            "grid_template_columns": null,
            "grid_template_rows": null,
            "height": null,
            "justify_content": null,
            "justify_items": null,
            "left": null,
            "margin": null,
            "max_height": null,
            "max_width": null,
            "min_height": null,
            "min_width": null,
            "object_fit": null,
            "object_position": null,
            "order": null,
            "overflow": null,
            "overflow_x": null,
            "overflow_y": null,
            "padding": null,
            "right": null,
            "top": null,
            "visibility": null,
            "width": null
          }
        },
        "12a15138ad334698a4c7ad0f887203eb": {
          "model_module": "@jupyter-widgets/base",
          "model_name": "LayoutModel",
          "model_module_version": "1.2.0",
          "state": {
            "_model_module": "@jupyter-widgets/base",
            "_model_module_version": "1.2.0",
            "_model_name": "LayoutModel",
            "_view_count": null,
            "_view_module": "@jupyter-widgets/base",
            "_view_module_version": "1.2.0",
            "_view_name": "LayoutView",
            "align_content": null,
            "align_items": null,
            "align_self": null,
            "border": null,
            "bottom": null,
            "display": null,
            "flex": null,
            "flex_flow": null,
            "grid_area": null,
            "grid_auto_columns": null,
            "grid_auto_flow": null,
            "grid_auto_rows": null,
            "grid_column": null,
            "grid_gap": null,
            "grid_row": null,
            "grid_template_areas": null,
            "grid_template_columns": null,
            "grid_template_rows": null,
            "height": null,
            "justify_content": null,
            "justify_items": null,
            "left": null,
            "margin": null,
            "max_height": null,
            "max_width": null,
            "min_height": null,
            "min_width": null,
            "object_fit": null,
            "object_position": null,
            "order": null,
            "overflow": null,
            "overflow_x": null,
            "overflow_y": null,
            "padding": null,
            "right": null,
            "top": null,
            "visibility": null,
            "width": null
          }
        },
        "bff1f76f2316428c94346f9a815cd023": {
          "model_module": "@jupyter-widgets/controls",
          "model_name": "DescriptionStyleModel",
          "model_module_version": "1.5.0",
          "state": {
            "_model_module": "@jupyter-widgets/controls",
            "_model_module_version": "1.5.0",
            "_model_name": "DescriptionStyleModel",
            "_view_count": null,
            "_view_module": "@jupyter-widgets/base",
            "_view_module_version": "1.2.0",
            "_view_name": "StyleView",
            "description_width": ""
          }
        },
        "860345411fda4532af5510386f04f528": {
          "model_module": "@jupyter-widgets/base",
          "model_name": "LayoutModel",
          "model_module_version": "1.2.0",
          "state": {
            "_model_module": "@jupyter-widgets/base",
            "_model_module_version": "1.2.0",
            "_model_name": "LayoutModel",
            "_view_count": null,
            "_view_module": "@jupyter-widgets/base",
            "_view_module_version": "1.2.0",
            "_view_name": "LayoutView",
            "align_content": null,
            "align_items": null,
            "align_self": null,
            "border": null,
            "bottom": null,
            "display": null,
            "flex": null,
            "flex_flow": null,
            "grid_area": null,
            "grid_auto_columns": null,
            "grid_auto_flow": null,
            "grid_auto_rows": null,
            "grid_column": null,
            "grid_gap": null,
            "grid_row": null,
            "grid_template_areas": null,
            "grid_template_columns": null,
            "grid_template_rows": null,
            "height": null,
            "justify_content": null,
            "justify_items": null,
            "left": null,
            "margin": null,
            "max_height": null,
            "max_width": null,
            "min_height": null,
            "min_width": null,
            "object_fit": null,
            "object_position": null,
            "order": null,
            "overflow": null,
            "overflow_x": null,
            "overflow_y": null,
            "padding": null,
            "right": null,
            "top": null,
            "visibility": null,
            "width": null
          }
        },
        "00366606dc9b41abb230b51ddee7c92f": {
          "model_module": "@jupyter-widgets/controls",
          "model_name": "ProgressStyleModel",
          "model_module_version": "1.5.0",
          "state": {
            "_model_module": "@jupyter-widgets/controls",
            "_model_module_version": "1.5.0",
            "_model_name": "ProgressStyleModel",
            "_view_count": null,
            "_view_module": "@jupyter-widgets/base",
            "_view_module_version": "1.2.0",
            "_view_name": "StyleView",
            "bar_color": null,
            "description_width": ""
          }
        },
        "5dc222b2a9de48c18f962f6864450267": {
          "model_module": "@jupyter-widgets/base",
          "model_name": "LayoutModel",
          "model_module_version": "1.2.0",
          "state": {
            "_model_module": "@jupyter-widgets/base",
            "_model_module_version": "1.2.0",
            "_model_name": "LayoutModel",
            "_view_count": null,
            "_view_module": "@jupyter-widgets/base",
            "_view_module_version": "1.2.0",
            "_view_name": "LayoutView",
            "align_content": null,
            "align_items": null,
            "align_self": null,
            "border": null,
            "bottom": null,
            "display": null,
            "flex": null,
            "flex_flow": null,
            "grid_area": null,
            "grid_auto_columns": null,
            "grid_auto_flow": null,
            "grid_auto_rows": null,
            "grid_column": null,
            "grid_gap": null,
            "grid_row": null,
            "grid_template_areas": null,
            "grid_template_columns": null,
            "grid_template_rows": null,
            "height": null,
            "justify_content": null,
            "justify_items": null,
            "left": null,
            "margin": null,
            "max_height": null,
            "max_width": null,
            "min_height": null,
            "min_width": null,
            "object_fit": null,
            "object_position": null,
            "order": null,
            "overflow": null,
            "overflow_x": null,
            "overflow_y": null,
            "padding": null,
            "right": null,
            "top": null,
            "visibility": null,
            "width": null
          }
        },
        "0ef6d19253204355a19f60c6308d6bc5": {
          "model_module": "@jupyter-widgets/controls",
          "model_name": "DescriptionStyleModel",
          "model_module_version": "1.5.0",
          "state": {
            "_model_module": "@jupyter-widgets/controls",
            "_model_module_version": "1.5.0",
            "_model_name": "DescriptionStyleModel",
            "_view_count": null,
            "_view_module": "@jupyter-widgets/base",
            "_view_module_version": "1.2.0",
            "_view_name": "StyleView",
            "description_width": ""
          }
        },
        "8b27828f6dfa47f199820a9e5db82f3d": {
          "model_module": "@jupyter-widgets/controls",
          "model_name": "HBoxModel",
          "model_module_version": "1.5.0",
          "state": {
            "_dom_classes": [],
            "_model_module": "@jupyter-widgets/controls",
            "_model_module_version": "1.5.0",
            "_model_name": "HBoxModel",
            "_view_count": null,
            "_view_module": "@jupyter-widgets/controls",
            "_view_module_version": "1.5.0",
            "_view_name": "HBoxView",
            "box_style": "",
            "children": [
              "IPY_MODEL_1ff2e8310b144bf4ab193d045f5e57ca",
              "IPY_MODEL_6e50215f54624fe5bb20dc0ca1c586e1",
              "IPY_MODEL_8ded691fbd454bfaba0c072fadb1c5e5"
            ],
            "layout": "IPY_MODEL_a2d939850b58436aa3923db7ec501ed2"
          }
        },
        "1ff2e8310b144bf4ab193d045f5e57ca": {
          "model_module": "@jupyter-widgets/controls",
          "model_name": "HTMLModel",
          "model_module_version": "1.5.0",
          "state": {
            "_dom_classes": [],
            "_model_module": "@jupyter-widgets/controls",
            "_model_module_version": "1.5.0",
            "_model_name": "HTMLModel",
            "_view_count": null,
            "_view_module": "@jupyter-widgets/controls",
            "_view_module_version": "1.5.0",
            "_view_name": "HTMLView",
            "description": "",
            "description_tooltip": null,
            "layout": "IPY_MODEL_31e9250a1e714e6c95ab870adf05c558",
            "placeholder": "​",
            "style": "IPY_MODEL_ef2cfad3c105475f9311d303183898b1",
            "value": "preprocessor_config.json: 100%"
          }
        },
        "6e50215f54624fe5bb20dc0ca1c586e1": {
          "model_module": "@jupyter-widgets/controls",
          "model_name": "FloatProgressModel",
          "model_module_version": "1.5.0",
          "state": {
            "_dom_classes": [],
            "_model_module": "@jupyter-widgets/controls",
            "_model_module_version": "1.5.0",
            "_model_name": "FloatProgressModel",
            "_view_count": null,
            "_view_module": "@jupyter-widgets/controls",
            "_view_module_version": "1.5.0",
            "_view_name": "ProgressView",
            "bar_style": "success",
            "description": "",
            "description_tooltip": null,
            "layout": "IPY_MODEL_6d7f7fea22a04923aa82412f6492c474",
            "max": 316,
            "min": 0,
            "orientation": "horizontal",
            "style": "IPY_MODEL_ebe3e3ec47c644119f636a4324304059",
            "value": 316
          }
        },
        "8ded691fbd454bfaba0c072fadb1c5e5": {
          "model_module": "@jupyter-widgets/controls",
          "model_name": "HTMLModel",
          "model_module_version": "1.5.0",
          "state": {
            "_dom_classes": [],
            "_model_module": "@jupyter-widgets/controls",
            "_model_module_version": "1.5.0",
            "_model_name": "HTMLModel",
            "_view_count": null,
            "_view_module": "@jupyter-widgets/controls",
            "_view_module_version": "1.5.0",
            "_view_name": "HTMLView",
            "description": "",
            "description_tooltip": null,
            "layout": "IPY_MODEL_99c4a47bf35d4534a38d40e460a417ba",
            "placeholder": "​",
            "style": "IPY_MODEL_3e8be75fcdf145b4841b2fc9b6112c3a",
            "value": " 316/316 [00:00&lt;00:00, 19.6kB/s]"
          }
        },
        "a2d939850b58436aa3923db7ec501ed2": {
          "model_module": "@jupyter-widgets/base",
          "model_name": "LayoutModel",
          "model_module_version": "1.2.0",
          "state": {
            "_model_module": "@jupyter-widgets/base",
            "_model_module_version": "1.2.0",
            "_model_name": "LayoutModel",
            "_view_count": null,
            "_view_module": "@jupyter-widgets/base",
            "_view_module_version": "1.2.0",
            "_view_name": "LayoutView",
            "align_content": null,
            "align_items": null,
            "align_self": null,
            "border": null,
            "bottom": null,
            "display": null,
            "flex": null,
            "flex_flow": null,
            "grid_area": null,
            "grid_auto_columns": null,
            "grid_auto_flow": null,
            "grid_auto_rows": null,
            "grid_column": null,
            "grid_gap": null,
            "grid_row": null,
            "grid_template_areas": null,
            "grid_template_columns": null,
            "grid_template_rows": null,
            "height": null,
            "justify_content": null,
            "justify_items": null,
            "left": null,
            "margin": null,
            "max_height": null,
            "max_width": null,
            "min_height": null,
            "min_width": null,
            "object_fit": null,
            "object_position": null,
            "order": null,
            "overflow": null,
            "overflow_x": null,
            "overflow_y": null,
            "padding": null,
            "right": null,
            "top": null,
            "visibility": null,
            "width": null
          }
        },
        "31e9250a1e714e6c95ab870adf05c558": {
          "model_module": "@jupyter-widgets/base",
          "model_name": "LayoutModel",
          "model_module_version": "1.2.0",
          "state": {
            "_model_module": "@jupyter-widgets/base",
            "_model_module_version": "1.2.0",
            "_model_name": "LayoutModel",
            "_view_count": null,
            "_view_module": "@jupyter-widgets/base",
            "_view_module_version": "1.2.0",
            "_view_name": "LayoutView",
            "align_content": null,
            "align_items": null,
            "align_self": null,
            "border": null,
            "bottom": null,
            "display": null,
            "flex": null,
            "flex_flow": null,
            "grid_area": null,
            "grid_auto_columns": null,
            "grid_auto_flow": null,
            "grid_auto_rows": null,
            "grid_column": null,
            "grid_gap": null,
            "grid_row": null,
            "grid_template_areas": null,
            "grid_template_columns": null,
            "grid_template_rows": null,
            "height": null,
            "justify_content": null,
            "justify_items": null,
            "left": null,
            "margin": null,
            "max_height": null,
            "max_width": null,
            "min_height": null,
            "min_width": null,
            "object_fit": null,
            "object_position": null,
            "order": null,
            "overflow": null,
            "overflow_x": null,
            "overflow_y": null,
            "padding": null,
            "right": null,
            "top": null,
            "visibility": null,
            "width": null
          }
        },
        "ef2cfad3c105475f9311d303183898b1": {
          "model_module": "@jupyter-widgets/controls",
          "model_name": "DescriptionStyleModel",
          "model_module_version": "1.5.0",
          "state": {
            "_model_module": "@jupyter-widgets/controls",
            "_model_module_version": "1.5.0",
            "_model_name": "DescriptionStyleModel",
            "_view_count": null,
            "_view_module": "@jupyter-widgets/base",
            "_view_module_version": "1.2.0",
            "_view_name": "StyleView",
            "description_width": ""
          }
        },
        "6d7f7fea22a04923aa82412f6492c474": {
          "model_module": "@jupyter-widgets/base",
          "model_name": "LayoutModel",
          "model_module_version": "1.2.0",
          "state": {
            "_model_module": "@jupyter-widgets/base",
            "_model_module_version": "1.2.0",
            "_model_name": "LayoutModel",
            "_view_count": null,
            "_view_module": "@jupyter-widgets/base",
            "_view_module_version": "1.2.0",
            "_view_name": "LayoutView",
            "align_content": null,
            "align_items": null,
            "align_self": null,
            "border": null,
            "bottom": null,
            "display": null,
            "flex": null,
            "flex_flow": null,
            "grid_area": null,
            "grid_auto_columns": null,
            "grid_auto_flow": null,
            "grid_auto_rows": null,
            "grid_column": null,
            "grid_gap": null,
            "grid_row": null,
            "grid_template_areas": null,
            "grid_template_columns": null,
            "grid_template_rows": null,
            "height": null,
            "justify_content": null,
            "justify_items": null,
            "left": null,
            "margin": null,
            "max_height": null,
            "max_width": null,
            "min_height": null,
            "min_width": null,
            "object_fit": null,
            "object_position": null,
            "order": null,
            "overflow": null,
            "overflow_x": null,
            "overflow_y": null,
            "padding": null,
            "right": null,
            "top": null,
            "visibility": null,
            "width": null
          }
        },
        "ebe3e3ec47c644119f636a4324304059": {
          "model_module": "@jupyter-widgets/controls",
          "model_name": "ProgressStyleModel",
          "model_module_version": "1.5.0",
          "state": {
            "_model_module": "@jupyter-widgets/controls",
            "_model_module_version": "1.5.0",
            "_model_name": "ProgressStyleModel",
            "_view_count": null,
            "_view_module": "@jupyter-widgets/base",
            "_view_module_version": "1.2.0",
            "_view_name": "StyleView",
            "bar_color": null,
            "description_width": ""
          }
        },
        "99c4a47bf35d4534a38d40e460a417ba": {
          "model_module": "@jupyter-widgets/base",
          "model_name": "LayoutModel",
          "model_module_version": "1.2.0",
          "state": {
            "_model_module": "@jupyter-widgets/base",
            "_model_module_version": "1.2.0",
            "_model_name": "LayoutModel",
            "_view_count": null,
            "_view_module": "@jupyter-widgets/base",
            "_view_module_version": "1.2.0",
            "_view_name": "LayoutView",
            "align_content": null,
            "align_items": null,
            "align_self": null,
            "border": null,
            "bottom": null,
            "display": null,
            "flex": null,
            "flex_flow": null,
            "grid_area": null,
            "grid_auto_columns": null,
            "grid_auto_flow": null,
            "grid_auto_rows": null,
            "grid_column": null,
            "grid_gap": null,
            "grid_row": null,
            "grid_template_areas": null,
            "grid_template_columns": null,
            "grid_template_rows": null,
            "height": null,
            "justify_content": null,
            "justify_items": null,
            "left": null,
            "margin": null,
            "max_height": null,
            "max_width": null,
            "min_height": null,
            "min_width": null,
            "object_fit": null,
            "object_position": null,
            "order": null,
            "overflow": null,
            "overflow_x": null,
            "overflow_y": null,
            "padding": null,
            "right": null,
            "top": null,
            "visibility": null,
            "width": null
          }
        },
        "3e8be75fcdf145b4841b2fc9b6112c3a": {
          "model_module": "@jupyter-widgets/controls",
          "model_name": "DescriptionStyleModel",
          "model_module_version": "1.5.0",
          "state": {
            "_model_module": "@jupyter-widgets/controls",
            "_model_module_version": "1.5.0",
            "_model_name": "DescriptionStyleModel",
            "_view_count": null,
            "_view_module": "@jupyter-widgets/base",
            "_view_module_version": "1.2.0",
            "_view_name": "StyleView",
            "description_width": ""
          }
        },
        "62beddfcb43d411c9dca94f4ef717d58": {
          "model_module": "@jupyter-widgets/controls",
          "model_name": "HBoxModel",
          "model_module_version": "1.5.0",
          "state": {
            "_dom_classes": [],
            "_model_module": "@jupyter-widgets/controls",
            "_model_module_version": "1.5.0",
            "_model_name": "HBoxModel",
            "_view_count": null,
            "_view_module": "@jupyter-widgets/controls",
            "_view_module_version": "1.5.0",
            "_view_name": "HBoxView",
            "box_style": "",
            "children": [
              "IPY_MODEL_306bd2bce0fe48ee91cc301ff52f153b",
              "IPY_MODEL_f57cf95062524a4bb2ecc012a1d84fde",
              "IPY_MODEL_4e8a5e67181f4d51aeda90063029ae23"
            ],
            "layout": "IPY_MODEL_752240267c674f6a9c182cb0aff4f573"
          }
        },
        "306bd2bce0fe48ee91cc301ff52f153b": {
          "model_module": "@jupyter-widgets/controls",
          "model_name": "HTMLModel",
          "model_module_version": "1.5.0",
          "state": {
            "_dom_classes": [],
            "_model_module": "@jupyter-widgets/controls",
            "_model_module_version": "1.5.0",
            "_model_name": "HTMLModel",
            "_view_count": null,
            "_view_module": "@jupyter-widgets/controls",
            "_view_module_version": "1.5.0",
            "_view_name": "HTMLView",
            "description": "",
            "description_tooltip": null,
            "layout": "IPY_MODEL_f0530f5714d54b4cbb3704391aa9ce00",
            "placeholder": "​",
            "style": "IPY_MODEL_358b0c77937b46ec97a75f1ccdd3b1c5",
            "value": "tokenizer_config.json: 100%"
          }
        },
        "f57cf95062524a4bb2ecc012a1d84fde": {
          "model_module": "@jupyter-widgets/controls",
          "model_name": "FloatProgressModel",
          "model_module_version": "1.5.0",
          "state": {
            "_dom_classes": [],
            "_model_module": "@jupyter-widgets/controls",
            "_model_module_version": "1.5.0",
            "_model_name": "FloatProgressModel",
            "_view_count": null,
            "_view_module": "@jupyter-widgets/controls",
            "_view_module_version": "1.5.0",
            "_view_name": "ProgressView",
            "bar_style": "success",
            "description": "",
            "description_tooltip": null,
            "layout": "IPY_MODEL_981f44d091d6495d8b201aad26abf9ea",
            "max": 592,
            "min": 0,
            "orientation": "horizontal",
            "style": "IPY_MODEL_a3cfb2618b0a4466a47a7d696c5b976d",
            "value": 592
          }
        },
        "4e8a5e67181f4d51aeda90063029ae23": {
          "model_module": "@jupyter-widgets/controls",
          "model_name": "HTMLModel",
          "model_module_version": "1.5.0",
          "state": {
            "_dom_classes": [],
            "_model_module": "@jupyter-widgets/controls",
            "_model_module_version": "1.5.0",
            "_model_name": "HTMLModel",
            "_view_count": null,
            "_view_module": "@jupyter-widgets/controls",
            "_view_module_version": "1.5.0",
            "_view_name": "HTMLView",
            "description": "",
            "description_tooltip": null,
            "layout": "IPY_MODEL_69630d3580c8424192401210def5278e",
            "placeholder": "​",
            "style": "IPY_MODEL_a61e8fbd5b6541dfb64e6f0e7dcd6dc9",
            "value": " 592/592 [00:00&lt;00:00, 15.0kB/s]"
          }
        },
        "752240267c674f6a9c182cb0aff4f573": {
          "model_module": "@jupyter-widgets/base",
          "model_name": "LayoutModel",
          "model_module_version": "1.2.0",
          "state": {
            "_model_module": "@jupyter-widgets/base",
            "_model_module_version": "1.2.0",
            "_model_name": "LayoutModel",
            "_view_count": null,
            "_view_module": "@jupyter-widgets/base",
            "_view_module_version": "1.2.0",
            "_view_name": "LayoutView",
            "align_content": null,
            "align_items": null,
            "align_self": null,
            "border": null,
            "bottom": null,
            "display": null,
            "flex": null,
            "flex_flow": null,
            "grid_area": null,
            "grid_auto_columns": null,
            "grid_auto_flow": null,
            "grid_auto_rows": null,
            "grid_column": null,
            "grid_gap": null,
            "grid_row": null,
            "grid_template_areas": null,
            "grid_template_columns": null,
            "grid_template_rows": null,
            "height": null,
            "justify_content": null,
            "justify_items": null,
            "left": null,
            "margin": null,
            "max_height": null,
            "max_width": null,
            "min_height": null,
            "min_width": null,
            "object_fit": null,
            "object_position": null,
            "order": null,
            "overflow": null,
            "overflow_x": null,
            "overflow_y": null,
            "padding": null,
            "right": null,
            "top": null,
            "visibility": null,
            "width": null
          }
        },
        "f0530f5714d54b4cbb3704391aa9ce00": {
          "model_module": "@jupyter-widgets/base",
          "model_name": "LayoutModel",
          "model_module_version": "1.2.0",
          "state": {
            "_model_module": "@jupyter-widgets/base",
            "_model_module_version": "1.2.0",
            "_model_name": "LayoutModel",
            "_view_count": null,
            "_view_module": "@jupyter-widgets/base",
            "_view_module_version": "1.2.0",
            "_view_name": "LayoutView",
            "align_content": null,
            "align_items": null,
            "align_self": null,
            "border": null,
            "bottom": null,
            "display": null,
            "flex": null,
            "flex_flow": null,
            "grid_area": null,
            "grid_auto_columns": null,
            "grid_auto_flow": null,
            "grid_auto_rows": null,
            "grid_column": null,
            "grid_gap": null,
            "grid_row": null,
            "grid_template_areas": null,
            "grid_template_columns": null,
            "grid_template_rows": null,
            "height": null,
            "justify_content": null,
            "justify_items": null,
            "left": null,
            "margin": null,
            "max_height": null,
            "max_width": null,
            "min_height": null,
            "min_width": null,
            "object_fit": null,
            "object_position": null,
            "order": null,
            "overflow": null,
            "overflow_x": null,
            "overflow_y": null,
            "padding": null,
            "right": null,
            "top": null,
            "visibility": null,
            "width": null
          }
        },
        "358b0c77937b46ec97a75f1ccdd3b1c5": {
          "model_module": "@jupyter-widgets/controls",
          "model_name": "DescriptionStyleModel",
          "model_module_version": "1.5.0",
          "state": {
            "_model_module": "@jupyter-widgets/controls",
            "_model_module_version": "1.5.0",
            "_model_name": "DescriptionStyleModel",
            "_view_count": null,
            "_view_module": "@jupyter-widgets/base",
            "_view_module_version": "1.2.0",
            "_view_name": "StyleView",
            "description_width": ""
          }
        },
        "981f44d091d6495d8b201aad26abf9ea": {
          "model_module": "@jupyter-widgets/base",
          "model_name": "LayoutModel",
          "model_module_version": "1.2.0",
          "state": {
            "_model_module": "@jupyter-widgets/base",
            "_model_module_version": "1.2.0",
            "_model_name": "LayoutModel",
            "_view_count": null,
            "_view_module": "@jupyter-widgets/base",
            "_view_module_version": "1.2.0",
            "_view_name": "LayoutView",
            "align_content": null,
            "align_items": null,
            "align_self": null,
            "border": null,
            "bottom": null,
            "display": null,
            "flex": null,
            "flex_flow": null,
            "grid_area": null,
            "grid_auto_columns": null,
            "grid_auto_flow": null,
            "grid_auto_rows": null,
            "grid_column": null,
            "grid_gap": null,
            "grid_row": null,
            "grid_template_areas": null,
            "grid_template_columns": null,
            "grid_template_rows": null,
            "height": null,
            "justify_content": null,
            "justify_items": null,
            "left": null,
            "margin": null,
            "max_height": null,
            "max_width": null,
            "min_height": null,
            "min_width": null,
            "object_fit": null,
            "object_position": null,
            "order": null,
            "overflow": null,
            "overflow_x": null,
            "overflow_y": null,
            "padding": null,
            "right": null,
            "top": null,
            "visibility": null,
            "width": null
          }
        },
        "a3cfb2618b0a4466a47a7d696c5b976d": {
          "model_module": "@jupyter-widgets/controls",
          "model_name": "ProgressStyleModel",
          "model_module_version": "1.5.0",
          "state": {
            "_model_module": "@jupyter-widgets/controls",
            "_model_module_version": "1.5.0",
            "_model_name": "ProgressStyleModel",
            "_view_count": null,
            "_view_module": "@jupyter-widgets/base",
            "_view_module_version": "1.2.0",
            "_view_name": "StyleView",
            "bar_color": null,
            "description_width": ""
          }
        },
        "69630d3580c8424192401210def5278e": {
          "model_module": "@jupyter-widgets/base",
          "model_name": "LayoutModel",
          "model_module_version": "1.2.0",
          "state": {
            "_model_module": "@jupyter-widgets/base",
            "_model_module_version": "1.2.0",
            "_model_name": "LayoutModel",
            "_view_count": null,
            "_view_module": "@jupyter-widgets/base",
            "_view_module_version": "1.2.0",
            "_view_name": "LayoutView",
            "align_content": null,
            "align_items": null,
            "align_self": null,
            "border": null,
            "bottom": null,
            "display": null,
            "flex": null,
            "flex_flow": null,
            "grid_area": null,
            "grid_auto_columns": null,
            "grid_auto_flow": null,
            "grid_auto_rows": null,
            "grid_column": null,
            "grid_gap": null,
            "grid_row": null,
            "grid_template_areas": null,
            "grid_template_columns": null,
            "grid_template_rows": null,
            "height": null,
            "justify_content": null,
            "justify_items": null,
            "left": null,
            "margin": null,
            "max_height": null,
            "max_width": null,
            "min_height": null,
            "min_width": null,
            "object_fit": null,
            "object_position": null,
            "order": null,
            "overflow": null,
            "overflow_x": null,
            "overflow_y": null,
            "padding": null,
            "right": null,
            "top": null,
            "visibility": null,
            "width": null
          }
        },
        "a61e8fbd5b6541dfb64e6f0e7dcd6dc9": {
          "model_module": "@jupyter-widgets/controls",
          "model_name": "DescriptionStyleModel",
          "model_module_version": "1.5.0",
          "state": {
            "_model_module": "@jupyter-widgets/controls",
            "_model_module_version": "1.5.0",
            "_model_name": "DescriptionStyleModel",
            "_view_count": null,
            "_view_module": "@jupyter-widgets/base",
            "_view_module_version": "1.2.0",
            "_view_name": "StyleView",
            "description_width": ""
          }
        },
        "04908b7b7c5946be94e57e3de8d86987": {
          "model_module": "@jupyter-widgets/controls",
          "model_name": "HBoxModel",
          "model_module_version": "1.5.0",
          "state": {
            "_dom_classes": [],
            "_model_module": "@jupyter-widgets/controls",
            "_model_module_version": "1.5.0",
            "_model_name": "HBoxModel",
            "_view_count": null,
            "_view_module": "@jupyter-widgets/controls",
            "_view_module_version": "1.5.0",
            "_view_name": "HBoxView",
            "box_style": "",
            "children": [
              "IPY_MODEL_1dd001b697ea40849fe1a35749339336",
              "IPY_MODEL_489b149b16ae4be69dbcc55af6c416e0",
              "IPY_MODEL_0407b620cb6b46c497f4a603511bc0b8"
            ],
            "layout": "IPY_MODEL_7dcc62f25d304826a22f574a9f016774"
          }
        },
        "1dd001b697ea40849fe1a35749339336": {
          "model_module": "@jupyter-widgets/controls",
          "model_name": "HTMLModel",
          "model_module_version": "1.5.0",
          "state": {
            "_dom_classes": [],
            "_model_module": "@jupyter-widgets/controls",
            "_model_module_version": "1.5.0",
            "_model_name": "HTMLModel",
            "_view_count": null,
            "_view_module": "@jupyter-widgets/controls",
            "_view_module_version": "1.5.0",
            "_view_name": "HTMLView",
            "description": "",
            "description_tooltip": null,
            "layout": "IPY_MODEL_48bdb1eff9754007a91f0ac2643fb0bb",
            "placeholder": "​",
            "style": "IPY_MODEL_21c849ea1e304d6ab006039a8177448c",
            "value": "vocab.json: 100%"
          }
        },
        "489b149b16ae4be69dbcc55af6c416e0": {
          "model_module": "@jupyter-widgets/controls",
          "model_name": "FloatProgressModel",
          "model_module_version": "1.5.0",
          "state": {
            "_dom_classes": [],
            "_model_module": "@jupyter-widgets/controls",
            "_model_module_version": "1.5.0",
            "_model_name": "FloatProgressModel",
            "_view_count": null,
            "_view_module": "@jupyter-widgets/controls",
            "_view_module_version": "1.5.0",
            "_view_name": "ProgressView",
            "bar_style": "success",
            "description": "",
            "description_tooltip": null,
            "layout": "IPY_MODEL_7d4293e2faa6471c9a3940d074d5ecda",
            "max": 862328,
            "min": 0,
            "orientation": "horizontal",
            "style": "IPY_MODEL_2fbf172170084e4d91dd643d6ccd901a",
            "value": 862328
          }
        },
        "0407b620cb6b46c497f4a603511bc0b8": {
          "model_module": "@jupyter-widgets/controls",
          "model_name": "HTMLModel",
          "model_module_version": "1.5.0",
          "state": {
            "_dom_classes": [],
            "_model_module": "@jupyter-widgets/controls",
            "_model_module_version": "1.5.0",
            "_model_name": "HTMLModel",
            "_view_count": null,
            "_view_module": "@jupyter-widgets/controls",
            "_view_module_version": "1.5.0",
            "_view_name": "HTMLView",
            "description": "",
            "description_tooltip": null,
            "layout": "IPY_MODEL_5ee5cff8d3144370965740f658e84743",
            "placeholder": "​",
            "style": "IPY_MODEL_698680a560c7422581ccc897b5d1c2f0",
            "value": " 862k/862k [00:00&lt;00:00, 10.5MB/s]"
          }
        },
        "7dcc62f25d304826a22f574a9f016774": {
          "model_module": "@jupyter-widgets/base",
          "model_name": "LayoutModel",
          "model_module_version": "1.2.0",
          "state": {
            "_model_module": "@jupyter-widgets/base",
            "_model_module_version": "1.2.0",
            "_model_name": "LayoutModel",
            "_view_count": null,
            "_view_module": "@jupyter-widgets/base",
            "_view_module_version": "1.2.0",
            "_view_name": "LayoutView",
            "align_content": null,
            "align_items": null,
            "align_self": null,
            "border": null,
            "bottom": null,
            "display": null,
            "flex": null,
            "flex_flow": null,
            "grid_area": null,
            "grid_auto_columns": null,
            "grid_auto_flow": null,
            "grid_auto_rows": null,
            "grid_column": null,
            "grid_gap": null,
            "grid_row": null,
            "grid_template_areas": null,
            "grid_template_columns": null,
            "grid_template_rows": null,
            "height": null,
            "justify_content": null,
            "justify_items": null,
            "left": null,
            "margin": null,
            "max_height": null,
            "max_width": null,
            "min_height": null,
            "min_width": null,
            "object_fit": null,
            "object_position": null,
            "order": null,
            "overflow": null,
            "overflow_x": null,
            "overflow_y": null,
            "padding": null,
            "right": null,
            "top": null,
            "visibility": null,
            "width": null
          }
        },
        "48bdb1eff9754007a91f0ac2643fb0bb": {
          "model_module": "@jupyter-widgets/base",
          "model_name": "LayoutModel",
          "model_module_version": "1.2.0",
          "state": {
            "_model_module": "@jupyter-widgets/base",
            "_model_module_version": "1.2.0",
            "_model_name": "LayoutModel",
            "_view_count": null,
            "_view_module": "@jupyter-widgets/base",
            "_view_module_version": "1.2.0",
            "_view_name": "LayoutView",
            "align_content": null,
            "align_items": null,
            "align_self": null,
            "border": null,
            "bottom": null,
            "display": null,
            "flex": null,
            "flex_flow": null,
            "grid_area": null,
            "grid_auto_columns": null,
            "grid_auto_flow": null,
            "grid_auto_rows": null,
            "grid_column": null,
            "grid_gap": null,
            "grid_row": null,
            "grid_template_areas": null,
            "grid_template_columns": null,
            "grid_template_rows": null,
            "height": null,
            "justify_content": null,
            "justify_items": null,
            "left": null,
            "margin": null,
            "max_height": null,
            "max_width": null,
            "min_height": null,
            "min_width": null,
            "object_fit": null,
            "object_position": null,
            "order": null,
            "overflow": null,
            "overflow_x": null,
            "overflow_y": null,
            "padding": null,
            "right": null,
            "top": null,
            "visibility": null,
            "width": null
          }
        },
        "21c849ea1e304d6ab006039a8177448c": {
          "model_module": "@jupyter-widgets/controls",
          "model_name": "DescriptionStyleModel",
          "model_module_version": "1.5.0",
          "state": {
            "_model_module": "@jupyter-widgets/controls",
            "_model_module_version": "1.5.0",
            "_model_name": "DescriptionStyleModel",
            "_view_count": null,
            "_view_module": "@jupyter-widgets/base",
            "_view_module_version": "1.2.0",
            "_view_name": "StyleView",
            "description_width": ""
          }
        },
        "7d4293e2faa6471c9a3940d074d5ecda": {
          "model_module": "@jupyter-widgets/base",
          "model_name": "LayoutModel",
          "model_module_version": "1.2.0",
          "state": {
            "_model_module": "@jupyter-widgets/base",
            "_model_module_version": "1.2.0",
            "_model_name": "LayoutModel",
            "_view_count": null,
            "_view_module": "@jupyter-widgets/base",
            "_view_module_version": "1.2.0",
            "_view_name": "LayoutView",
            "align_content": null,
            "align_items": null,
            "align_self": null,
            "border": null,
            "bottom": null,
            "display": null,
            "flex": null,
            "flex_flow": null,
            "grid_area": null,
            "grid_auto_columns": null,
            "grid_auto_flow": null,
            "grid_auto_rows": null,
            "grid_column": null,
            "grid_gap": null,
            "grid_row": null,
            "grid_template_areas": null,
            "grid_template_columns": null,
            "grid_template_rows": null,
            "height": null,
            "justify_content": null,
            "justify_items": null,
            "left": null,
            "margin": null,
            "max_height": null,
            "max_width": null,
            "min_height": null,
            "min_width": null,
            "object_fit": null,
            "object_position": null,
            "order": null,
            "overflow": null,
            "overflow_x": null,
            "overflow_y": null,
            "padding": null,
            "right": null,
            "top": null,
            "visibility": null,
            "width": null
          }
        },
        "2fbf172170084e4d91dd643d6ccd901a": {
          "model_module": "@jupyter-widgets/controls",
          "model_name": "ProgressStyleModel",
          "model_module_version": "1.5.0",
          "state": {
            "_model_module": "@jupyter-widgets/controls",
            "_model_module_version": "1.5.0",
            "_model_name": "ProgressStyleModel",
            "_view_count": null,
            "_view_module": "@jupyter-widgets/base",
            "_view_module_version": "1.2.0",
            "_view_name": "StyleView",
            "bar_color": null,
            "description_width": ""
          }
        },
        "5ee5cff8d3144370965740f658e84743": {
          "model_module": "@jupyter-widgets/base",
          "model_name": "LayoutModel",
          "model_module_version": "1.2.0",
          "state": {
            "_model_module": "@jupyter-widgets/base",
            "_model_module_version": "1.2.0",
            "_model_name": "LayoutModel",
            "_view_count": null,
            "_view_module": "@jupyter-widgets/base",
            "_view_module_version": "1.2.0",
            "_view_name": "LayoutView",
            "align_content": null,
            "align_items": null,
            "align_self": null,
            "border": null,
            "bottom": null,
            "display": null,
            "flex": null,
            "flex_flow": null,
            "grid_area": null,
            "grid_auto_columns": null,
            "grid_auto_flow": null,
            "grid_auto_rows": null,
            "grid_column": null,
            "grid_gap": null,
            "grid_row": null,
            "grid_template_areas": null,
            "grid_template_columns": null,
            "grid_template_rows": null,
            "height": null,
            "justify_content": null,
            "justify_items": null,
            "left": null,
            "margin": null,
            "max_height": null,
            "max_width": null,
            "min_height": null,
            "min_width": null,
            "object_fit": null,
            "object_position": null,
            "order": null,
            "overflow": null,
            "overflow_x": null,
            "overflow_y": null,
            "padding": null,
            "right": null,
            "top": null,
            "visibility": null,
            "width": null
          }
        },
        "698680a560c7422581ccc897b5d1c2f0": {
          "model_module": "@jupyter-widgets/controls",
          "model_name": "DescriptionStyleModel",
          "model_module_version": "1.5.0",
          "state": {
            "_model_module": "@jupyter-widgets/controls",
            "_model_module_version": "1.5.0",
            "_model_name": "DescriptionStyleModel",
            "_view_count": null,
            "_view_module": "@jupyter-widgets/base",
            "_view_module_version": "1.2.0",
            "_view_name": "StyleView",
            "description_width": ""
          }
        },
        "8d33c9a4a8ce4dd3847c4a15096ec8b1": {
          "model_module": "@jupyter-widgets/controls",
          "model_name": "HBoxModel",
          "model_module_version": "1.5.0",
          "state": {
            "_dom_classes": [],
            "_model_module": "@jupyter-widgets/controls",
            "_model_module_version": "1.5.0",
            "_model_name": "HBoxModel",
            "_view_count": null,
            "_view_module": "@jupyter-widgets/controls",
            "_view_module_version": "1.5.0",
            "_view_name": "HBoxView",
            "box_style": "",
            "children": [
              "IPY_MODEL_11e21f8222664d8b90d24673cac8ca61",
              "IPY_MODEL_88a5a2d8a90143fe8ae6093f13e69a18",
              "IPY_MODEL_9202c7e23ef049cfad6332341c91d4db"
            ],
            "layout": "IPY_MODEL_460c5191e21a44a6bb06589a7699017c"
          }
        },
        "11e21f8222664d8b90d24673cac8ca61": {
          "model_module": "@jupyter-widgets/controls",
          "model_name": "HTMLModel",
          "model_module_version": "1.5.0",
          "state": {
            "_dom_classes": [],
            "_model_module": "@jupyter-widgets/controls",
            "_model_module_version": "1.5.0",
            "_model_name": "HTMLModel",
            "_view_count": null,
            "_view_module": "@jupyter-widgets/controls",
            "_view_module_version": "1.5.0",
            "_view_name": "HTMLView",
            "description": "",
            "description_tooltip": null,
            "layout": "IPY_MODEL_786297838da34c548d4d8149faba5de1",
            "placeholder": "​",
            "style": "IPY_MODEL_0cb367ff6dc7444986f58247a1eb1b1e",
            "value": "merges.txt: 100%"
          }
        },
        "88a5a2d8a90143fe8ae6093f13e69a18": {
          "model_module": "@jupyter-widgets/controls",
          "model_name": "FloatProgressModel",
          "model_module_version": "1.5.0",
          "state": {
            "_dom_classes": [],
            "_model_module": "@jupyter-widgets/controls",
            "_model_module_version": "1.5.0",
            "_model_name": "FloatProgressModel",
            "_view_count": null,
            "_view_module": "@jupyter-widgets/controls",
            "_view_module_version": "1.5.0",
            "_view_name": "ProgressView",
            "bar_style": "success",
            "description": "",
            "description_tooltip": null,
            "layout": "IPY_MODEL_95694808c6a9423887ca0c3e2a039a04",
            "max": 524657,
            "min": 0,
            "orientation": "horizontal",
            "style": "IPY_MODEL_ff58104f1e6d47b8b1ce9fa99ff6ed9b",
            "value": 524657
          }
        },
        "9202c7e23ef049cfad6332341c91d4db": {
          "model_module": "@jupyter-widgets/controls",
          "model_name": "HTMLModel",
          "model_module_version": "1.5.0",
          "state": {
            "_dom_classes": [],
            "_model_module": "@jupyter-widgets/controls",
            "_model_module_version": "1.5.0",
            "_model_name": "HTMLModel",
            "_view_count": null,
            "_view_module": "@jupyter-widgets/controls",
            "_view_module_version": "1.5.0",
            "_view_name": "HTMLView",
            "description": "",
            "description_tooltip": null,
            "layout": "IPY_MODEL_8388689bf1ca4222965012c47a1473a7",
            "placeholder": "​",
            "style": "IPY_MODEL_f487aab3fb93459c894f36e4c28d72ac",
            "value": " 525k/525k [00:00&lt;00:00, 3.64MB/s]"
          }
        },
        "460c5191e21a44a6bb06589a7699017c": {
          "model_module": "@jupyter-widgets/base",
          "model_name": "LayoutModel",
          "model_module_version": "1.2.0",
          "state": {
            "_model_module": "@jupyter-widgets/base",
            "_model_module_version": "1.2.0",
            "_model_name": "LayoutModel",
            "_view_count": null,
            "_view_module": "@jupyter-widgets/base",
            "_view_module_version": "1.2.0",
            "_view_name": "LayoutView",
            "align_content": null,
            "align_items": null,
            "align_self": null,
            "border": null,
            "bottom": null,
            "display": null,
            "flex": null,
            "flex_flow": null,
            "grid_area": null,
            "grid_auto_columns": null,
            "grid_auto_flow": null,
            "grid_auto_rows": null,
            "grid_column": null,
            "grid_gap": null,
            "grid_row": null,
            "grid_template_areas": null,
            "grid_template_columns": null,
            "grid_template_rows": null,
            "height": null,
            "justify_content": null,
            "justify_items": null,
            "left": null,
            "margin": null,
            "max_height": null,
            "max_width": null,
            "min_height": null,
            "min_width": null,
            "object_fit": null,
            "object_position": null,
            "order": null,
            "overflow": null,
            "overflow_x": null,
            "overflow_y": null,
            "padding": null,
            "right": null,
            "top": null,
            "visibility": null,
            "width": null
          }
        },
        "786297838da34c548d4d8149faba5de1": {
          "model_module": "@jupyter-widgets/base",
          "model_name": "LayoutModel",
          "model_module_version": "1.2.0",
          "state": {
            "_model_module": "@jupyter-widgets/base",
            "_model_module_version": "1.2.0",
            "_model_name": "LayoutModel",
            "_view_count": null,
            "_view_module": "@jupyter-widgets/base",
            "_view_module_version": "1.2.0",
            "_view_name": "LayoutView",
            "align_content": null,
            "align_items": null,
            "align_self": null,
            "border": null,
            "bottom": null,
            "display": null,
            "flex": null,
            "flex_flow": null,
            "grid_area": null,
            "grid_auto_columns": null,
            "grid_auto_flow": null,
            "grid_auto_rows": null,
            "grid_column": null,
            "grid_gap": null,
            "grid_row": null,
            "grid_template_areas": null,
            "grid_template_columns": null,
            "grid_template_rows": null,
            "height": null,
            "justify_content": null,
            "justify_items": null,
            "left": null,
            "margin": null,
            "max_height": null,
            "max_width": null,
            "min_height": null,
            "min_width": null,
            "object_fit": null,
            "object_position": null,
            "order": null,
            "overflow": null,
            "overflow_x": null,
            "overflow_y": null,
            "padding": null,
            "right": null,
            "top": null,
            "visibility": null,
            "width": null
          }
        },
        "0cb367ff6dc7444986f58247a1eb1b1e": {
          "model_module": "@jupyter-widgets/controls",
          "model_name": "DescriptionStyleModel",
          "model_module_version": "1.5.0",
          "state": {
            "_model_module": "@jupyter-widgets/controls",
            "_model_module_version": "1.5.0",
            "_model_name": "DescriptionStyleModel",
            "_view_count": null,
            "_view_module": "@jupyter-widgets/base",
            "_view_module_version": "1.2.0",
            "_view_name": "StyleView",
            "description_width": ""
          }
        },
        "95694808c6a9423887ca0c3e2a039a04": {
          "model_module": "@jupyter-widgets/base",
          "model_name": "LayoutModel",
          "model_module_version": "1.2.0",
          "state": {
            "_model_module": "@jupyter-widgets/base",
            "_model_module_version": "1.2.0",
            "_model_name": "LayoutModel",
            "_view_count": null,
            "_view_module": "@jupyter-widgets/base",
            "_view_module_version": "1.2.0",
            "_view_name": "LayoutView",
            "align_content": null,
            "align_items": null,
            "align_self": null,
            "border": null,
            "bottom": null,
            "display": null,
            "flex": null,
            "flex_flow": null,
            "grid_area": null,
            "grid_auto_columns": null,
            "grid_auto_flow": null,
            "grid_auto_rows": null,
            "grid_column": null,
            "grid_gap": null,
            "grid_row": null,
            "grid_template_areas": null,
            "grid_template_columns": null,
            "grid_template_rows": null,
            "height": null,
            "justify_content": null,
            "justify_items": null,
            "left": null,
            "margin": null,
            "max_height": null,
            "max_width": null,
            "min_height": null,
            "min_width": null,
            "object_fit": null,
            "object_position": null,
            "order": null,
            "overflow": null,
            "overflow_x": null,
            "overflow_y": null,
            "padding": null,
            "right": null,
            "top": null,
            "visibility": null,
            "width": null
          }
        },
        "ff58104f1e6d47b8b1ce9fa99ff6ed9b": {
          "model_module": "@jupyter-widgets/controls",
          "model_name": "ProgressStyleModel",
          "model_module_version": "1.5.0",
          "state": {
            "_model_module": "@jupyter-widgets/controls",
            "_model_module_version": "1.5.0",
            "_model_name": "ProgressStyleModel",
            "_view_count": null,
            "_view_module": "@jupyter-widgets/base",
            "_view_module_version": "1.2.0",
            "_view_name": "StyleView",
            "bar_color": null,
            "description_width": ""
          }
        },
        "8388689bf1ca4222965012c47a1473a7": {
          "model_module": "@jupyter-widgets/base",
          "model_name": "LayoutModel",
          "model_module_version": "1.2.0",
          "state": {
            "_model_module": "@jupyter-widgets/base",
            "_model_module_version": "1.2.0",
            "_model_name": "LayoutModel",
            "_view_count": null,
            "_view_module": "@jupyter-widgets/base",
            "_view_module_version": "1.2.0",
            "_view_name": "LayoutView",
            "align_content": null,
            "align_items": null,
            "align_self": null,
            "border": null,
            "bottom": null,
            "display": null,
            "flex": null,
            "flex_flow": null,
            "grid_area": null,
            "grid_auto_columns": null,
            "grid_auto_flow": null,
            "grid_auto_rows": null,
            "grid_column": null,
            "grid_gap": null,
            "grid_row": null,
            "grid_template_areas": null,
            "grid_template_columns": null,
            "grid_template_rows": null,
            "height": null,
            "justify_content": null,
            "justify_items": null,
            "left": null,
            "margin": null,
            "max_height": null,
            "max_width": null,
            "min_height": null,
            "min_width": null,
            "object_fit": null,
            "object_position": null,
            "order": null,
            "overflow": null,
            "overflow_x": null,
            "overflow_y": null,
            "padding": null,
            "right": null,
            "top": null,
            "visibility": null,
            "width": null
          }
        },
        "f487aab3fb93459c894f36e4c28d72ac": {
          "model_module": "@jupyter-widgets/controls",
          "model_name": "DescriptionStyleModel",
          "model_module_version": "1.5.0",
          "state": {
            "_model_module": "@jupyter-widgets/controls",
            "_model_module_version": "1.5.0",
            "_model_name": "DescriptionStyleModel",
            "_view_count": null,
            "_view_module": "@jupyter-widgets/base",
            "_view_module_version": "1.2.0",
            "_view_name": "StyleView",
            "description_width": ""
          }
        },
        "522aae508f854b5cb568022eca4b6045": {
          "model_module": "@jupyter-widgets/controls",
          "model_name": "HBoxModel",
          "model_module_version": "1.5.0",
          "state": {
            "_dom_classes": [],
            "_model_module": "@jupyter-widgets/controls",
            "_model_module_version": "1.5.0",
            "_model_name": "HBoxModel",
            "_view_count": null,
            "_view_module": "@jupyter-widgets/controls",
            "_view_module_version": "1.5.0",
            "_view_name": "HBoxView",
            "box_style": "",
            "children": [
              "IPY_MODEL_f9b477c823054938b800e0cc9884feb2",
              "IPY_MODEL_7ec85b9cdde449f98e746d9df5da5ab0",
              "IPY_MODEL_2fb6fec6bf7f4de693ae9551f7c7062f"
            ],
            "layout": "IPY_MODEL_d70bcc2e67a249228a9623a661501ec8"
          }
        },
        "f9b477c823054938b800e0cc9884feb2": {
          "model_module": "@jupyter-widgets/controls",
          "model_name": "HTMLModel",
          "model_module_version": "1.5.0",
          "state": {
            "_dom_classes": [],
            "_model_module": "@jupyter-widgets/controls",
            "_model_module_version": "1.5.0",
            "_model_name": "HTMLModel",
            "_view_count": null,
            "_view_module": "@jupyter-widgets/controls",
            "_view_module_version": "1.5.0",
            "_view_name": "HTMLView",
            "description": "",
            "description_tooltip": null,
            "layout": "IPY_MODEL_43de868291c143fc8a4954c51cb82adf",
            "placeholder": "​",
            "style": "IPY_MODEL_dfa63792e8034b6c89a18b973cee5b8a",
            "value": "tokenizer.json: 100%"
          }
        },
        "7ec85b9cdde449f98e746d9df5da5ab0": {
          "model_module": "@jupyter-widgets/controls",
          "model_name": "FloatProgressModel",
          "model_module_version": "1.5.0",
          "state": {
            "_dom_classes": [],
            "_model_module": "@jupyter-widgets/controls",
            "_model_module_version": "1.5.0",
            "_model_name": "FloatProgressModel",
            "_view_count": null,
            "_view_module": "@jupyter-widgets/controls",
            "_view_module_version": "1.5.0",
            "_view_name": "ProgressView",
            "bar_style": "success",
            "description": "",
            "description_tooltip": null,
            "layout": "IPY_MODEL_b867fe9848bf49d98ba56ca90c06094f",
            "max": 2224041,
            "min": 0,
            "orientation": "horizontal",
            "style": "IPY_MODEL_9cc8c5a585554bac88a6ccbfeeb05166",
            "value": 2224041
          }
        },
        "2fb6fec6bf7f4de693ae9551f7c7062f": {
          "model_module": "@jupyter-widgets/controls",
          "model_name": "HTMLModel",
          "model_module_version": "1.5.0",
          "state": {
            "_dom_classes": [],
            "_model_module": "@jupyter-widgets/controls",
            "_model_module_version": "1.5.0",
            "_model_name": "HTMLModel",
            "_view_count": null,
            "_view_module": "@jupyter-widgets/controls",
            "_view_module_version": "1.5.0",
            "_view_name": "HTMLView",
            "description": "",
            "description_tooltip": null,
            "layout": "IPY_MODEL_90fe0f4831ae4e64852f70d099d6866e",
            "placeholder": "​",
            "style": "IPY_MODEL_14b8cb5eb2764fd5960912b03055eb1d",
            "value": " 2.22M/2.22M [00:00&lt;00:00, 15.1MB/s]"
          }
        },
        "d70bcc2e67a249228a9623a661501ec8": {
          "model_module": "@jupyter-widgets/base",
          "model_name": "LayoutModel",
          "model_module_version": "1.2.0",
          "state": {
            "_model_module": "@jupyter-widgets/base",
            "_model_module_version": "1.2.0",
            "_model_name": "LayoutModel",
            "_view_count": null,
            "_view_module": "@jupyter-widgets/base",
            "_view_module_version": "1.2.0",
            "_view_name": "LayoutView",
            "align_content": null,
            "align_items": null,
            "align_self": null,
            "border": null,
            "bottom": null,
            "display": null,
            "flex": null,
            "flex_flow": null,
            "grid_area": null,
            "grid_auto_columns": null,
            "grid_auto_flow": null,
            "grid_auto_rows": null,
            "grid_column": null,
            "grid_gap": null,
            "grid_row": null,
            "grid_template_areas": null,
            "grid_template_columns": null,
            "grid_template_rows": null,
            "height": null,
            "justify_content": null,
            "justify_items": null,
            "left": null,
            "margin": null,
            "max_height": null,
            "max_width": null,
            "min_height": null,
            "min_width": null,
            "object_fit": null,
            "object_position": null,
            "order": null,
            "overflow": null,
            "overflow_x": null,
            "overflow_y": null,
            "padding": null,
            "right": null,
            "top": null,
            "visibility": null,
            "width": null
          }
        },
        "43de868291c143fc8a4954c51cb82adf": {
          "model_module": "@jupyter-widgets/base",
          "model_name": "LayoutModel",
          "model_module_version": "1.2.0",
          "state": {
            "_model_module": "@jupyter-widgets/base",
            "_model_module_version": "1.2.0",
            "_model_name": "LayoutModel",
            "_view_count": null,
            "_view_module": "@jupyter-widgets/base",
            "_view_module_version": "1.2.0",
            "_view_name": "LayoutView",
            "align_content": null,
            "align_items": null,
            "align_self": null,
            "border": null,
            "bottom": null,
            "display": null,
            "flex": null,
            "flex_flow": null,
            "grid_area": null,
            "grid_auto_columns": null,
            "grid_auto_flow": null,
            "grid_auto_rows": null,
            "grid_column": null,
            "grid_gap": null,
            "grid_row": null,
            "grid_template_areas": null,
            "grid_template_columns": null,
            "grid_template_rows": null,
            "height": null,
            "justify_content": null,
            "justify_items": null,
            "left": null,
            "margin": null,
            "max_height": null,
            "max_width": null,
            "min_height": null,
            "min_width": null,
            "object_fit": null,
            "object_position": null,
            "order": null,
            "overflow": null,
            "overflow_x": null,
            "overflow_y": null,
            "padding": null,
            "right": null,
            "top": null,
            "visibility": null,
            "width": null
          }
        },
        "dfa63792e8034b6c89a18b973cee5b8a": {
          "model_module": "@jupyter-widgets/controls",
          "model_name": "DescriptionStyleModel",
          "model_module_version": "1.5.0",
          "state": {
            "_model_module": "@jupyter-widgets/controls",
            "_model_module_version": "1.5.0",
            "_model_name": "DescriptionStyleModel",
            "_view_count": null,
            "_view_module": "@jupyter-widgets/base",
            "_view_module_version": "1.2.0",
            "_view_name": "StyleView",
            "description_width": ""
          }
        },
        "b867fe9848bf49d98ba56ca90c06094f": {
          "model_module": "@jupyter-widgets/base",
          "model_name": "LayoutModel",
          "model_module_version": "1.2.0",
          "state": {
            "_model_module": "@jupyter-widgets/base",
            "_model_module_version": "1.2.0",
            "_model_name": "LayoutModel",
            "_view_count": null,
            "_view_module": "@jupyter-widgets/base",
            "_view_module_version": "1.2.0",
            "_view_name": "LayoutView",
            "align_content": null,
            "align_items": null,
            "align_self": null,
            "border": null,
            "bottom": null,
            "display": null,
            "flex": null,
            "flex_flow": null,
            "grid_area": null,
            "grid_auto_columns": null,
            "grid_auto_flow": null,
            "grid_auto_rows": null,
            "grid_column": null,
            "grid_gap": null,
            "grid_row": null,
            "grid_template_areas": null,
            "grid_template_columns": null,
            "grid_template_rows": null,
            "height": null,
            "justify_content": null,
            "justify_items": null,
            "left": null,
            "margin": null,
            "max_height": null,
            "max_width": null,
            "min_height": null,
            "min_width": null,
            "object_fit": null,
            "object_position": null,
            "order": null,
            "overflow": null,
            "overflow_x": null,
            "overflow_y": null,
            "padding": null,
            "right": null,
            "top": null,
            "visibility": null,
            "width": null
          }
        },
        "9cc8c5a585554bac88a6ccbfeeb05166": {
          "model_module": "@jupyter-widgets/controls",
          "model_name": "ProgressStyleModel",
          "model_module_version": "1.5.0",
          "state": {
            "_model_module": "@jupyter-widgets/controls",
            "_model_module_version": "1.5.0",
            "_model_name": "ProgressStyleModel",
            "_view_count": null,
            "_view_module": "@jupyter-widgets/base",
            "_view_module_version": "1.2.0",
            "_view_name": "StyleView",
            "bar_color": null,
            "description_width": ""
          }
        },
        "90fe0f4831ae4e64852f70d099d6866e": {
          "model_module": "@jupyter-widgets/base",
          "model_name": "LayoutModel",
          "model_module_version": "1.2.0",
          "state": {
            "_model_module": "@jupyter-widgets/base",
            "_model_module_version": "1.2.0",
            "_model_name": "LayoutModel",
            "_view_count": null,
            "_view_module": "@jupyter-widgets/base",
            "_view_module_version": "1.2.0",
            "_view_name": "LayoutView",
            "align_content": null,
            "align_items": null,
            "align_self": null,
            "border": null,
            "bottom": null,
            "display": null,
            "flex": null,
            "flex_flow": null,
            "grid_area": null,
            "grid_auto_columns": null,
            "grid_auto_flow": null,
            "grid_auto_rows": null,
            "grid_column": null,
            "grid_gap": null,
            "grid_row": null,
            "grid_template_areas": null,
            "grid_template_columns": null,
            "grid_template_rows": null,
            "height": null,
            "justify_content": null,
            "justify_items": null,
            "left": null,
            "margin": null,
            "max_height": null,
            "max_width": null,
            "min_height": null,
            "min_width": null,
            "object_fit": null,
            "object_position": null,
            "order": null,
            "overflow": null,
            "overflow_x": null,
            "overflow_y": null,
            "padding": null,
            "right": null,
            "top": null,
            "visibility": null,
            "width": null
          }
        },
        "14b8cb5eb2764fd5960912b03055eb1d": {
          "model_module": "@jupyter-widgets/controls",
          "model_name": "DescriptionStyleModel",
          "model_module_version": "1.5.0",
          "state": {
            "_model_module": "@jupyter-widgets/controls",
            "_model_module_version": "1.5.0",
            "_model_name": "DescriptionStyleModel",
            "_view_count": null,
            "_view_module": "@jupyter-widgets/base",
            "_view_module_version": "1.2.0",
            "_view_name": "StyleView",
            "description_width": ""
          }
        },
        "fb24e0d7b06d48c5b5eb81a8516c7f93": {
          "model_module": "@jupyter-widgets/controls",
          "model_name": "HBoxModel",
          "model_module_version": "1.5.0",
          "state": {
            "_dom_classes": [],
            "_model_module": "@jupyter-widgets/controls",
            "_model_module_version": "1.5.0",
            "_model_name": "HBoxModel",
            "_view_count": null,
            "_view_module": "@jupyter-widgets/controls",
            "_view_module_version": "1.5.0",
            "_view_name": "HBoxView",
            "box_style": "",
            "children": [
              "IPY_MODEL_af2c6a75742648faa7401c3d5e5fbc8d",
              "IPY_MODEL_a0b393c31bb04742ab6d617c32314cda",
              "IPY_MODEL_0ee9b686cc3d4b479650ae84c1630a12"
            ],
            "layout": "IPY_MODEL_066a70218ee64e5ca8056d3a9ddeca85"
          }
        },
        "af2c6a75742648faa7401c3d5e5fbc8d": {
          "model_module": "@jupyter-widgets/controls",
          "model_name": "HTMLModel",
          "model_module_version": "1.5.0",
          "state": {
            "_dom_classes": [],
            "_model_module": "@jupyter-widgets/controls",
            "_model_module_version": "1.5.0",
            "_model_name": "HTMLModel",
            "_view_count": null,
            "_view_module": "@jupyter-widgets/controls",
            "_view_module_version": "1.5.0",
            "_view_name": "HTMLView",
            "description": "",
            "description_tooltip": null,
            "layout": "IPY_MODEL_1e19a277f9134cf398a0a5896c7bc1ea",
            "placeholder": "​",
            "style": "IPY_MODEL_8120119efb3144869cb9e1784e6c5e67",
            "value": "special_tokens_map.json: 100%"
          }
        },
        "a0b393c31bb04742ab6d617c32314cda": {
          "model_module": "@jupyter-widgets/controls",
          "model_name": "FloatProgressModel",
          "model_module_version": "1.5.0",
          "state": {
            "_dom_classes": [],
            "_model_module": "@jupyter-widgets/controls",
            "_model_module_version": "1.5.0",
            "_model_name": "FloatProgressModel",
            "_view_count": null,
            "_view_module": "@jupyter-widgets/controls",
            "_view_module_version": "1.5.0",
            "_view_name": "ProgressView",
            "bar_style": "success",
            "description": "",
            "description_tooltip": null,
            "layout": "IPY_MODEL_dab29723b4114d318858741e26d7f275",
            "max": 389,
            "min": 0,
            "orientation": "horizontal",
            "style": "IPY_MODEL_5448d0acc7d1427d93474f300630c6cd",
            "value": 389
          }
        },
        "0ee9b686cc3d4b479650ae84c1630a12": {
          "model_module": "@jupyter-widgets/controls",
          "model_name": "HTMLModel",
          "model_module_version": "1.5.0",
          "state": {
            "_dom_classes": [],
            "_model_module": "@jupyter-widgets/controls",
            "_model_module_version": "1.5.0",
            "_model_name": "HTMLModel",
            "_view_count": null,
            "_view_module": "@jupyter-widgets/controls",
            "_view_module_version": "1.5.0",
            "_view_name": "HTMLView",
            "description": "",
            "description_tooltip": null,
            "layout": "IPY_MODEL_0d1dcd7bb89d4804a916f28b4fb3a86d",
            "placeholder": "​",
            "style": "IPY_MODEL_a865d746c0b644a9b8b265ab67e2f19d",
            "value": " 389/389 [00:00&lt;00:00, 8.99kB/s]"
          }
        },
        "066a70218ee64e5ca8056d3a9ddeca85": {
          "model_module": "@jupyter-widgets/base",
          "model_name": "LayoutModel",
          "model_module_version": "1.2.0",
          "state": {
            "_model_module": "@jupyter-widgets/base",
            "_model_module_version": "1.2.0",
            "_model_name": "LayoutModel",
            "_view_count": null,
            "_view_module": "@jupyter-widgets/base",
            "_view_module_version": "1.2.0",
            "_view_name": "LayoutView",
            "align_content": null,
            "align_items": null,
            "align_self": null,
            "border": null,
            "bottom": null,
            "display": null,
            "flex": null,
            "flex_flow": null,
            "grid_area": null,
            "grid_auto_columns": null,
            "grid_auto_flow": null,
            "grid_auto_rows": null,
            "grid_column": null,
            "grid_gap": null,
            "grid_row": null,
            "grid_template_areas": null,
            "grid_template_columns": null,
            "grid_template_rows": null,
            "height": null,
            "justify_content": null,
            "justify_items": null,
            "left": null,
            "margin": null,
            "max_height": null,
            "max_width": null,
            "min_height": null,
            "min_width": null,
            "object_fit": null,
            "object_position": null,
            "order": null,
            "overflow": null,
            "overflow_x": null,
            "overflow_y": null,
            "padding": null,
            "right": null,
            "top": null,
            "visibility": null,
            "width": null
          }
        },
        "1e19a277f9134cf398a0a5896c7bc1ea": {
          "model_module": "@jupyter-widgets/base",
          "model_name": "LayoutModel",
          "model_module_version": "1.2.0",
          "state": {
            "_model_module": "@jupyter-widgets/base",
            "_model_module_version": "1.2.0",
            "_model_name": "LayoutModel",
            "_view_count": null,
            "_view_module": "@jupyter-widgets/base",
            "_view_module_version": "1.2.0",
            "_view_name": "LayoutView",
            "align_content": null,
            "align_items": null,
            "align_self": null,
            "border": null,
            "bottom": null,
            "display": null,
            "flex": null,
            "flex_flow": null,
            "grid_area": null,
            "grid_auto_columns": null,
            "grid_auto_flow": null,
            "grid_auto_rows": null,
            "grid_column": null,
            "grid_gap": null,
            "grid_row": null,
            "grid_template_areas": null,
            "grid_template_columns": null,
            "grid_template_rows": null,
            "height": null,
            "justify_content": null,
            "justify_items": null,
            "left": null,
            "margin": null,
            "max_height": null,
            "max_width": null,
            "min_height": null,
            "min_width": null,
            "object_fit": null,
            "object_position": null,
            "order": null,
            "overflow": null,
            "overflow_x": null,
            "overflow_y": null,
            "padding": null,
            "right": null,
            "top": null,
            "visibility": null,
            "width": null
          }
        },
        "8120119efb3144869cb9e1784e6c5e67": {
          "model_module": "@jupyter-widgets/controls",
          "model_name": "DescriptionStyleModel",
          "model_module_version": "1.5.0",
          "state": {
            "_model_module": "@jupyter-widgets/controls",
            "_model_module_version": "1.5.0",
            "_model_name": "DescriptionStyleModel",
            "_view_count": null,
            "_view_module": "@jupyter-widgets/base",
            "_view_module_version": "1.2.0",
            "_view_name": "StyleView",
            "description_width": ""
          }
        },
        "dab29723b4114d318858741e26d7f275": {
          "model_module": "@jupyter-widgets/base",
          "model_name": "LayoutModel",
          "model_module_version": "1.2.0",
          "state": {
            "_model_module": "@jupyter-widgets/base",
            "_model_module_version": "1.2.0",
            "_model_name": "LayoutModel",
            "_view_count": null,
            "_view_module": "@jupyter-widgets/base",
            "_view_module_version": "1.2.0",
            "_view_name": "LayoutView",
            "align_content": null,
            "align_items": null,
            "align_self": null,
            "border": null,
            "bottom": null,
            "display": null,
            "flex": null,
            "flex_flow": null,
            "grid_area": null,
            "grid_auto_columns": null,
            "grid_auto_flow": null,
            "grid_auto_rows": null,
            "grid_column": null,
            "grid_gap": null,
            "grid_row": null,
            "grid_template_areas": null,
            "grid_template_columns": null,
            "grid_template_rows": null,
            "height": null,
            "justify_content": null,
            "justify_items": null,
            "left": null,
            "margin": null,
            "max_height": null,
            "max_width": null,
            "min_height": null,
            "min_width": null,
            "object_fit": null,
            "object_position": null,
            "order": null,
            "overflow": null,
            "overflow_x": null,
            "overflow_y": null,
            "padding": null,
            "right": null,
            "top": null,
            "visibility": null,
            "width": null
          }
        },
        "5448d0acc7d1427d93474f300630c6cd": {
          "model_module": "@jupyter-widgets/controls",
          "model_name": "ProgressStyleModel",
          "model_module_version": "1.5.0",
          "state": {
            "_model_module": "@jupyter-widgets/controls",
            "_model_module_version": "1.5.0",
            "_model_name": "ProgressStyleModel",
            "_view_count": null,
            "_view_module": "@jupyter-widgets/base",
            "_view_module_version": "1.2.0",
            "_view_name": "StyleView",
            "bar_color": null,
            "description_width": ""
          }
        },
        "0d1dcd7bb89d4804a916f28b4fb3a86d": {
          "model_module": "@jupyter-widgets/base",
          "model_name": "LayoutModel",
          "model_module_version": "1.2.0",
          "state": {
            "_model_module": "@jupyter-widgets/base",
            "_model_module_version": "1.2.0",
            "_model_name": "LayoutModel",
            "_view_count": null,
            "_view_module": "@jupyter-widgets/base",
            "_view_module_version": "1.2.0",
            "_view_name": "LayoutView",
            "align_content": null,
            "align_items": null,
            "align_self": null,
            "border": null,
            "bottom": null,
            "display": null,
            "flex": null,
            "flex_flow": null,
            "grid_area": null,
            "grid_auto_columns": null,
            "grid_auto_flow": null,
            "grid_auto_rows": null,
            "grid_column": null,
            "grid_gap": null,
            "grid_row": null,
            "grid_template_areas": null,
            "grid_template_columns": null,
            "grid_template_rows": null,
            "height": null,
            "justify_content": null,
            "justify_items": null,
            "left": null,
            "margin": null,
            "max_height": null,
            "max_width": null,
            "min_height": null,
            "min_width": null,
            "object_fit": null,
            "object_position": null,
            "order": null,
            "overflow": null,
            "overflow_x": null,
            "overflow_y": null,
            "padding": null,
            "right": null,
            "top": null,
            "visibility": null,
            "width": null
          }
        },
        "a865d746c0b644a9b8b265ab67e2f19d": {
          "model_module": "@jupyter-widgets/controls",
          "model_name": "DescriptionStyleModel",
          "model_module_version": "1.5.0",
          "state": {
            "_model_module": "@jupyter-widgets/controls",
            "_model_module_version": "1.5.0",
            "_model_name": "DescriptionStyleModel",
            "_view_count": null,
            "_view_module": "@jupyter-widgets/base",
            "_view_module_version": "1.2.0",
            "_view_name": "StyleView",
            "description_width": ""
          }
        }
      }
    }
  },
  "cells": [
    {
      "cell_type": "markdown",
      "source": [
        "# Robust Zero-Shot Classification"
      ],
      "metadata": {
        "id": "di3XzHQTMRK2"
      }
    },
    {
      "cell_type": "code",
      "execution_count": 3,
      "metadata": {
        "colab": {
          "base_uri": "https://localhost:8080/"
        },
        "id": "MM7w8bCBL7eY",
        "outputId": "4706b82a-689d-4ad6-f894-4921b0d34ced"
      },
      "outputs": [
        {
          "output_type": "stream",
          "name": "stdout",
          "text": [
            "Mounted at /content/drive\n"
          ]
        }
      ],
      "source": [
        "from google.colab import drive\n",
        "drive.mount('/content/drive')"
      ]
    },
    {
      "cell_type": "code",
      "source": [
        "pip install torchattacks"
      ],
      "metadata": {
        "id": "VKOhKhxp36rr"
      },
      "execution_count": null,
      "outputs": []
    },
    {
      "cell_type": "code",
      "source": [
        "!pip install peft -q"
      ],
      "metadata": {
        "id": "UcnyDIpwORjQ"
      },
      "execution_count": 2,
      "outputs": []
    },
    {
      "cell_type": "code",
      "source": [
        "import torch\n",
        "import torchvision\n",
        "from torchvision.datasets import CIFAR10\n",
        "import matplotlib.pyplot as plt\n",
        "import numpy as np\n",
        "import random\n",
        "from collections import Counter\n",
        "from torchvision import datasets, transforms\n",
        "from torch.utils.data import DataLoader, Subset, random_split, TensorDataset, Dataset\n",
        "from transformers import CLIPProcessor, CLIPModel\n",
        "import torchattacks\n",
        "import os\n",
        "import glob\n",
        "import gc\n",
        "from peft import LoraConfig, get_peft_model\n",
        "import torch.nn as nn\n",
        "from tqdm import tqdm"
      ],
      "metadata": {
        "id": "kk2RpjZcMwpn"
      },
      "execution_count": 4,
      "outputs": []
    },
    {
      "cell_type": "code",
      "source": [
        "base_path = \"/content/drive/MyDrive/Colab Notebooks/HW5\"\n",
        "device = \"cuda\" if torch.cuda.is_available() else \"cpu\""
      ],
      "metadata": {
        "id": "_CwkpiCzMhkf"
      },
      "execution_count": 5,
      "outputs": []
    },
    {
      "cell_type": "markdown",
      "source": [
        "## 1: Preparing CIFAR10 dataset"
      ],
      "metadata": {
        "id": "eCgVWScNMiFa"
      }
    },
    {
      "cell_type": "markdown",
      "source": [
        "### Download dataset"
      ],
      "metadata": {
        "id": "aenGsB0rNMUI"
      }
    },
    {
      "cell_type": "code",
      "source": [
        "trainset_raw = CIFAR10(root= base_path+'/CIFAR10/train', train=True, download=True)\n",
        "\n",
        "testset_raw = CIFAR10(root= base_path +'/CIFAR10/test', train=False, download=True)"
      ],
      "metadata": {
        "id": "iQgA62fFNFe1"
      },
      "execution_count": null,
      "outputs": []
    },
    {
      "cell_type": "code",
      "source": [
        "class_names = trainset_raw.classes\n",
        "\n",
        "train_labels = [label for _, label in trainset_raw]\n",
        "test_labels = [label for _, label in testset_raw]\n",
        "\n",
        "train_counts = Counter(train_labels)\n",
        "test_counts = Counter(test_labels)\n",
        "\n",
        "train_distribution = [train_counts[i] for i in range(10)]\n",
        "test_distribution = [test_counts[i] for i in range(10)]\n",
        "\n",
        "fig, axs = plt.subplots(1, 2, figsize=(12, 4))\n",
        "axs[0].bar(class_names, train_distribution, color='r')\n",
        "axs[0].set_title(\"Training Set Class Distribution\")\n",
        "axs[0].tick_params(axis='x', rotation=45)\n",
        "\n",
        "axs[1].bar(class_names, test_distribution, color='b')\n",
        "axs[1].set_title(\"Test Set Class Distribution\")\n",
        "axs[1].tick_params(axis='x', rotation=45)\n",
        "\n",
        "plt.tight_layout()\n",
        "plt.show()\n"
      ],
      "metadata": {
        "colab": {
          "base_uri": "https://localhost:8080/",
          "height": 407
        },
        "id": "od1GedNBNhSA",
        "outputId": "a5e35908-b7d9-4340-c20e-92068ab7f04a"
      },
      "execution_count": null,
      "outputs": [
        {
          "output_type": "display_data",
          "data": {
            "text/plain": [
              "<Figure size 1200x400 with 2 Axes>"
            ],
            "image/png": "[encoded data removed]"
          },
          "metadata": {}
        }
      ]
    },
    {
      "cell_type": "code",
      "source": [
        "def show_random_images(dataset, num_images=5):\n",
        "\n",
        "    class_names = dataset.classes\n",
        "\n",
        "    random_indices = random.sample(range(len(dataset)), num_images)\n",
        "\n",
        "    fig, axes = plt.subplots(1, num_images, figsize=(15, 3))\n",
        "    fig.suptitle(f'{num_images} Random Images from CIFAR-10 Training Set', fontsize=16)\n",
        "\n",
        "    for i, index in enumerate(random_indices):\n",
        "        image, label = dataset[index]\n",
        "        axes[i].imshow(image)\n",
        "        axes[i].set_title(class_names[label])\n",
        "        axes[i].axis('off')\n",
        "\n",
        "    plt.tight_layout(rect=[0, 0, 1, 0.95])\n",
        "    plt.show()"
      ],
      "metadata": {
        "id": "DvqyAZpYk7bg"
      },
      "execution_count": null,
      "outputs": []
    },
    {
      "cell_type": "code",
      "source": [
        "show_random_images(trainset_raw, num_images=5)"
      ],
      "metadata": {
        "colab": {
          "base_uri": "https://localhost:8080/",
          "height": 285
        },
        "id": "XhJBpHTklMb0",
        "outputId": "28688aca-4793-462d-83e6-05b00d0e6775"
      },
      "execution_count": null,
      "outputs": [
        {
          "output_type": "display_data",
          "data": {
            "text/plain": [
              "<Figure size 1500x300 with 5 Axes>"
            ],
            "image/png": "[encoded data removed]"
          },
          "metadata": {}
        }
      ]
    },
    {
      "cell_type": "markdown",
      "source": [
        "### Processing images"
      ],
      "metadata": {
        "id": "GKz8c3QZO3Zk"
      }
    },
    {
      "cell_type": "code",
      "source": [
        "CLIP_MEAN = [0.48145466, 0.4578275, 0.40821073]\n",
        "CLIP_STD = [0.26862954, 0.26130258, 0.27577711]\n",
        "\n",
        "transform = transforms.Compose([\n",
        "    transforms.Resize((224, 224)),\n",
        "    transforms.ToTensor(),\n",
        "    transforms.Normalize(CLIP_MEAN, CLIP_STD)\n",
        "])"
      ],
      "metadata": {
        "id": "PwGEpDsWNvuR"
      },
      "execution_count": 6,
      "outputs": []
    },
    {
      "cell_type": "code",
      "source": [
        "full_train_dataset = CIFAR10(\n",
        "    root=base_path + '/CIFAR10/train',\n",
        "    train=True,\n",
        "    download=True,\n",
        "    transform=transform\n",
        ")\n",
        "\n",
        "train_val_ratio = 0.9\n",
        "train_size = int(train_val_ratio * len(full_train_dataset))\n",
        "val_size = len(full_train_dataset) - train_size\n",
        "\n",
        "generator = torch.Generator().manual_seed(42)\n",
        "train_subset, val_subset = random_split(full_train_dataset, [train_size, val_size], generator=generator)\n",
        "\n",
        "test_dataset = CIFAR10(\n",
        "    root=base_path +'/CIFAR10/test',\n",
        "    train=False,\n",
        "    download=True,\n",
        "    transform=transform\n",
        ")\n",
        "\n",
        "train_loader = DataLoader(train_subset, batch_size=64, shuffle=True, num_workers=2, pin_memory=False)\n",
        "val_loader = DataLoader(val_subset, batch_size=32, shuffle=False, num_workers=2, pin_memory=False)\n",
        "test_loader = DataLoader(test_dataset, batch_size=32, shuffle=False, num_workers=2, pin_memory=False)\n",
        "\n",
        "print(f\"Train samples: {len(train_subset)}\")\n",
        "print(f\"Validation samples: {len(val_subset)}\")\n",
        "print(f\"Test samples: {len(test_dataset)}\")\n",
        "\n",
        "images, labels = next(iter(train_loader))\n",
        "print(f\"Batch image shape: {images.shape}\")\n",
        "print(f\"Batch labels shape: {labels.shape}\")"
      ],
      "metadata": {
        "colab": {
          "base_uri": "https://localhost:8080/"
        },
        "id": "ohkLuX_5PH9m",
        "outputId": "2546c8e5-1e26-4314-f0a4-bfb767a91b85"
      },
      "execution_count": 7,
      "outputs": [
        {
          "output_type": "stream",
          "name": "stdout",
          "text": [
            "Train samples: 45000\n",
            "Validation samples: 5000\n",
            "Test samples: 10000\n",
            "Batch image shape: torch.Size([64, 3, 224, 224])\n",
            "Batch labels shape: torch.Size([64])\n"
          ]
        }
      ]
    },
    {
      "cell_type": "markdown",
      "source": [
        "## 2: Loading CLIP and adversarial model"
      ],
      "metadata": {
        "id": "ODpfBEw4tsew"
      }
    },
    {
      "cell_type": "markdown",
      "source": [
        "### CLIP"
      ],
      "metadata": {
        "id": "_Vy8bMgCt3PO"
      }
    },
    {
      "cell_type": "code",
      "source": [
        "model_name = \"openai/clip-vit-base-patch32\"\n",
        "\n",
        "CLIP_model = CLIPModel.from_pretrained(model_name)\n",
        "CLIP_processor = CLIPProcessor.from_pretrained(model_name)\n",
        "\n",
        "CLIP_model.to(device)\n",
        "CLIP_model.eval()"
      ],
      "metadata": {
        "colab": {
          "base_uri": "https://localhost:8080/",
          "height": 1000,
          "referenced_widgets": [
            "90544c08448a4da2b65191f1c09d8530",
            "64a319ecfd2f4eca844b2a6dc330daae",
            "f5990ef55ca1415a953040e1cf669735",
            "66a93a01757e40be8bc37714d3a593a2",
            "7562cfe193cd435bb2e03707970f3e49",
            "ec17cf6edbbc4a4db967d3111da8e908",
            "8bb46de8259f4c45af7c5312b850b888",
            "872257d5e12a479ab5b38f9cb88a233d",
            "1749886f28944750a996c8716c10366d",
            "bf7513f7fba944b7be4523055511dc21",
            "950cc8165fd54b0b91e722fb984d8a5d",
            "8ce6a44b923a4484b2458a00c477d1e5",
            "58c32aee964249f7ade062fb1e760cfe",
            "fdb6663421914e8e97a69f9d7e1d3876",
            "5bf65088099d45f68d7959cab7a93fe3",
            "be1908edc7904d86ab124a42e6a7b177",
            "c7d5b33b0d7642ceb6bc81bbec6f86cf",
            "32b4ff6889f746d386bb465fa2f088a3",
            "3a7cf4429afd4d2daef088841280cc27",
            "790334b8f1d1466ea3a6a20e8b77f098",
            "d3afa479c5044936b3d17dd8d642b747",
            "a8706c5d23854abd9c32ba77b5291d30",
            "5ebd04250766428e844292559836f404",
            "69db7cddd8dc40b98771e0009ae5d4f3",
            "ae6a7f5315524c7ba8038c09f6d5ac00",
            "ca9ad8c308e54ebca948db3a4cca538d",
            "cdc5b7fd2f3a4e438bbabc5b6d7e8437",
            "12a15138ad334698a4c7ad0f887203eb",
            "bff1f76f2316428c94346f9a815cd023",
            "860345411fda4532af5510386f04f528",
            "00366606dc9b41abb230b51ddee7c92f",
            "5dc222b2a9de48c18f962f6864450267",
            "0ef6d19253204355a19f60c6308d6bc5",
            "8b27828f6dfa47f199820a9e5db82f3d",
            "1ff2e8310b144bf4ab193d045f5e57ca",
            "6e50215f54624fe5bb20dc0ca1c586e1",
            "8ded691fbd454bfaba0c072fadb1c5e5",
            "a2d939850b58436aa3923db7ec501ed2",
            "31e9250a1e714e6c95ab870adf05c558",
            "ef2cfad3c105475f9311d303183898b1",
            "6d7f7fea22a04923aa82412f6492c474",
            "ebe3e3ec47c644119f636a4324304059",
            "99c4a47bf35d4534a38d40e460a417ba",
            "3e8be75fcdf145b4841b2fc9b6112c3a",
            "62beddfcb43d411c9dca94f4ef717d58",
            "306bd2bce0fe48ee91cc301ff52f153b",
            "f57cf95062524a4bb2ecc012a1d84fde",
            "4e8a5e67181f4d51aeda90063029ae23",
            "752240267c674f6a9c182cb0aff4f573",
            "f0530f5714d54b4cbb3704391aa9ce00",
            "358b0c77937b46ec97a75f1ccdd3b1c5",
            "981f44d091d6495d8b201aad26abf9ea",
            "a3cfb2618b0a4466a47a7d696c5b976d",
            "69630d3580c8424192401210def5278e",
            "a61e8fbd5b6541dfb64e6f0e7dcd6dc9",
            "04908b7b7c5946be94e57e3de8d86987",
            "1dd001b697ea40849fe1a35749339336",
            "489b149b16ae4be69dbcc55af6c416e0",
            "0407b620cb6b46c497f4a603511bc0b8",
            "7dcc62f25d304826a22f574a9f016774",
            "48bdb1eff9754007a91f0ac2643fb0bb",
            "21c849ea1e304d6ab006039a8177448c",
            "7d4293e2faa6471c9a3940d074d5ecda",
            "2fbf172170084e4d91dd643d6ccd901a",
            "5ee5cff8d3144370965740f658e84743",
            "698680a560c7422581ccc897b5d1c2f0",
            "8d33c9a4a8ce4dd3847c4a15096ec8b1",
            "11e21f8222664d8b90d24673cac8ca61",
            "88a5a2d8a90143fe8ae6093f13e69a18",
            "9202c7e23ef049cfad6332341c91d4db",
            "460c5191e21a44a6bb06589a7699017c",
            "786297838da34c548d4d8149faba5de1",
            "0cb367ff6dc7444986f58247a1eb1b1e",
            "95694808c6a9423887ca0c3e2a039a04",
            "ff58104f1e6d47b8b1ce9fa99ff6ed9b",
            "8388689bf1ca4222965012c47a1473a7",
            "f487aab3fb93459c894f36e4c28d72ac",
            "522aae508f854b5cb568022eca4b6045",
            "f9b477c823054938b800e0cc9884feb2",
            "7ec85b9cdde449f98e746d9df5da5ab0",
            "2fb6fec6bf7f4de693ae9551f7c7062f",
            "d70bcc2e67a249228a9623a661501ec8",
            "43de868291c143fc8a4954c51cb82adf",
            "dfa63792e8034b6c89a18b973cee5b8a",
            "b867fe9848bf49d98ba56ca90c06094f",
            "9cc8c5a585554bac88a6ccbfeeb05166",
            "90fe0f4831ae4e64852f70d099d6866e",
            "14b8cb5eb2764fd5960912b03055eb1d",
            "fb24e0d7b06d48c5b5eb81a8516c7f93",
            "af2c6a75742648faa7401c3d5e5fbc8d",
            "a0b393c31bb04742ab6d617c32314cda",
            "0ee9b686cc3d4b479650ae84c1630a12",
            "066a70218ee64e5ca8056d3a9ddeca85",
            "1e19a277f9134cf398a0a5896c7bc1ea",
            "8120119efb3144869cb9e1784e6c5e67",
            "dab29723b4114d318858741e26d7f275",
            "5448d0acc7d1427d93474f300630c6cd",
            "0d1dcd7bb89d4804a916f28b4fb3a86d",
            "a865d746c0b644a9b8b265ab67e2f19d"
          ]
        },
        "id": "A1CO39GOtzHX",
        "outputId": "98831e01-e2e0-41c8-bc94-8cc50a02f212"
      },
      "execution_count": 8,
      "outputs": [
        {
          "output_type": "stream",
          "name": "stderr",
          "text": [
            "/usr/local/lib/python3.11/dist-packages/huggingface_hub/utils/_auth.py:94: UserWarning: \n",
            "The secret `HF_TOKEN` does not exist in your Colab secrets.\n",
            "To authenticate with the Hugging Face Hub, create a token in your settings tab (https://huggingface.co/settings/tokens), set it as secret in your Google Colab and restart your session.\n",
            "You will be able to reuse this secret in all of your notebooks.\n",
            "Please note that authentication is recommended but still optional to access public models or datasets.\n",
            "  warnings.warn(\n"
          ]
        },
        {
          "output_type": "display_data",
          "data": {
            "text/plain": [
              "config.json:   0%|          | 0.00/4.19k [00:00<?, ?B/s]"
            ],
            "application/vnd.jupyter.widget-view+json": {
              "version_major": 2,
              "version_minor": 0,
              "model_id": "90544c08448a4da2b65191f1c09d8530"
            }
          },
          "metadata": {}
        },
        {
          "output_type": "display_data",
          "data": {
            "text/plain": [
              "pytorch_model.bin:   0%|          | 0.00/605M [00:00<?, ?B/s]"
            ],
            "application/vnd.jupyter.widget-view+json": {
              "version_major": 2,
              "version_minor": 0,
              "model_id": "8ce6a44b923a4484b2458a00c477d1e5"
            }
          },
          "metadata": {}
        },
        {
          "output_type": "stream",
          "name": "stderr",
          "text": [
            "Using a slow image processor as `use_fast` is unset and a slow processor was saved with this model. `use_fast=True` will be the default behavior in v4.52, even if the model was saved with a slow processor. This will result in minor differences in outputs. You'll still be able to use a slow processor with `use_fast=False`.\n"
          ]
        },
        {
          "output_type": "display_data",
          "data": {
            "text/plain": [
              "model.safetensors:   0%|          | 0.00/605M [00:00<?, ?B/s]"
            ],
            "application/vnd.jupyter.widget-view+json": {
              "version_major": 2,
              "version_minor": 0,
              "model_id": "5ebd04250766428e844292559836f404"
            }
          },
          "metadata": {}
        },
        {
          "output_type": "display_data",
          "data": {
            "text/plain": [
              "preprocessor_config.json:   0%|          | 0.00/316 [00:00<?, ?B/s]"
            ],
            "application/vnd.jupyter.widget-view+json": {
              "version_major": 2,
              "version_minor": 0,
              "model_id": "8b27828f6dfa47f199820a9e5db82f3d"
            }
          },
          "metadata": {}
        },
        {
          "output_type": "display_data",
          "data": {
            "text/plain": [
              "tokenizer_config.json:   0%|          | 0.00/592 [00:00<?, ?B/s]"
            ],
            "application/vnd.jupyter.widget-view+json": {
              "version_major": 2,
              "version_minor": 0,
              "model_id": "62beddfcb43d411c9dca94f4ef717d58"
            }
          },
          "metadata": {}
        },
        {
          "output_type": "display_data",
          "data": {
            "text/plain": [
              "vocab.json:   0%|          | 0.00/862k [00:00<?, ?B/s]"
            ],
            "application/vnd.jupyter.widget-view+json": {
              "version_major": 2,
              "version_minor": 0,
              "model_id": "04908b7b7c5946be94e57e3de8d86987"
            }
          },
          "metadata": {}
        },
        {
          "output_type": "display_data",
          "data": {
            "text/plain": [
              "merges.txt:   0%|          | 0.00/525k [00:00<?, ?B/s]"
            ],
            "application/vnd.jupyter.widget-view+json": {
              "version_major": 2,
              "version_minor": 0,
              "model_id": "8d33c9a4a8ce4dd3847c4a15096ec8b1"
            }
          },
          "metadata": {}
        },
        {
          "output_type": "display_data",
          "data": {
            "text/plain": [
              "tokenizer.json:   0%|          | 0.00/2.22M [00:00<?, ?B/s]"
            ],
            "application/vnd.jupyter.widget-view+json": {
              "version_major": 2,
              "version_minor": 0,
              "model_id": "522aae508f854b5cb568022eca4b6045"
            }
          },
          "metadata": {}
        },
        {
          "output_type": "display_data",
          "data": {
            "text/plain": [
              "special_tokens_map.json:   0%|          | 0.00/389 [00:00<?, ?B/s]"
            ],
            "application/vnd.jupyter.widget-view+json": {
              "version_major": 2,
              "version_minor": 0,
              "model_id": "fb24e0d7b06d48c5b5eb81a8516c7f93"
            }
          },
          "metadata": {}
        },
        {
          "output_type": "execute_result",
          "data": {
            "text/plain": [
              "CLIPModel(\n",
              "  (text_model): CLIPTextTransformer(\n",
              "    (embeddings): CLIPTextEmbeddings(\n",
              "      (token_embedding): Embedding(49408, 512)\n",
              "      (position_embedding): Embedding(77, 512)\n",
              "    )\n",
              "    (encoder): CLIPEncoder(\n",
              "      (layers): ModuleList(\n",
              "        (0-11): 12 x CLIPEncoderLayer(\n",
              "          (self_attn): CLIPAttention(\n",
              "            (k_proj): Linear(in_features=512, out_features=512, bias=True)\n",
              "            (v_proj): Linear(in_features=512, out_features=512, bias=True)\n",
              "            (q_proj): Linear(in_features=512, out_features=512, bias=True)\n",
              "            (out_proj): Linear(in_features=512, out_features=512, bias=True)\n",
              "          )\n",
              "          (layer_norm1): LayerNorm((512,), eps=1e-05, elementwise_affine=True)\n",
              "          (mlp): CLIPMLP(\n",
              "            (activation_fn): QuickGELUActivation()\n",
              "            (fc1): Linear(in_features=512, out_features=2048, bias=True)\n",
              "            (fc2): Linear(in_features=2048, out_features=512, bias=True)\n",
              "          )\n",
              "          (layer_norm2): LayerNorm((512,), eps=1e-05, elementwise_affine=True)\n",
              "        )\n",
              "      )\n",
              "    )\n",
              "    (final_layer_norm): LayerNorm((512,), eps=1e-05, elementwise_affine=True)\n",
              "  )\n",
              "  (vision_model): CLIPVisionTransformer(\n",
              "    (embeddings): CLIPVisionEmbeddings(\n",
              "      (patch_embedding): Conv2d(3, 768, kernel_size=(32, 32), stride=(32, 32), bias=False)\n",
              "      (position_embedding): Embedding(50, 768)\n",
              "    )\n",
              "    (pre_layrnorm): LayerNorm((768,), eps=1e-05, elementwise_affine=True)\n",
              "    (encoder): CLIPEncoder(\n",
              "      (layers): ModuleList(\n",
              "        (0-11): 12 x CLIPEncoderLayer(\n",
              "          (self_attn): CLIPAttention(\n",
              "            (k_proj): Linear(in_features=768, out_features=768, bias=True)\n",
              "            (v_proj): Linear(in_features=768, out_features=768, bias=True)\n",
              "            (q_proj): Linear(in_features=768, out_features=768, bias=True)\n",
              "            (out_proj): Linear(in_features=768, out_features=768, bias=True)\n",
              "          )\n",
              "          (layer_norm1): LayerNorm((768,), eps=1e-05, elementwise_affine=True)\n",
              "          (mlp): CLIPMLP(\n",
              "            (activation_fn): QuickGELUActivation()\n",
              "            (fc1): Linear(in_features=768, out_features=3072, bias=True)\n",
              "            (fc2): Linear(in_features=3072, out_features=768, bias=True)\n",
              "          )\n",
              "          (layer_norm2): LayerNorm((768,), eps=1e-05, elementwise_affine=True)\n",
              "        )\n",
              "      )\n",
              "    )\n",
              "    (post_layernorm): LayerNorm((768,), eps=1e-05, elementwise_affine=True)\n",
              "  )\n",
              "  (visual_projection): Linear(in_features=768, out_features=512, bias=False)\n",
              "  (text_projection): Linear(in_features=512, out_features=512, bias=False)\n",
              ")"
            ]
          },
          "metadata": {},
          "execution_count": 8
        }
      ]
    },
    {
      "cell_type": "markdown",
      "source": [
        "### Adversarial model"
      ],
      "metadata": {
        "id": "bizLdSnPwFdR"
      }
    },
    {
      "cell_type": "code",
      "source": [
        "adversarial_model = torch.hub.load(\"chenyaofo/pytorch-cifar-models\", \"cifar10_resnet20\", pretrained=True)\n",
        "adversarial_model.to(device)\n",
        "adversarial_model.eval()\n",
        "\n",
        "for param in adversarial_model.parameters():\n",
        "        param.requires_grad = False"
      ],
      "metadata": {
        "colab": {
          "base_uri": "https://localhost:8080/"
        },
        "id": "3RC_d4_uviZh",
        "outputId": "a7e6ea07-19e3-4395-e3f7-3af8a0ca9a40"
      },
      "execution_count": 9,
      "outputs": [
        {
          "output_type": "stream",
          "name": "stderr",
          "text": [
            "/usr/local/lib/python3.11/dist-packages/torch/hub.py:330: UserWarning: You are about to download and run code from an untrusted repository. In a future release, this won't be allowed. To add the repository to your trusted list, change the command to {calling_fn}(..., trust_repo=False) and a command prompt will appear asking for an explicit confirmation of trust, or load(..., trust_repo=True), which will assume that the prompt is to be answered with 'yes'. You can also use load(..., trust_repo='check') which will only prompt for confirmation if the repo is not already trusted. This will eventually be the default behaviour\n",
            "  warnings.warn(\n",
            "Downloading: \"https://github.com/chenyaofo/pytorch-cifar-models/zipball/master\" to /root/.cache/torch/hub/master.zip\n",
            "Downloading: \"https://github.com/chenyaofo/pytorch-cifar-models/releases/download/resnet/cifar10_resnet20-4118986f.pt\" to /root/.cache/torch/hub/checkpoints/cifar10_resnet20-4118986f.pt\n",
            "100%|██████████| 1.09M/1.09M [00:00<00:00, 32.8MB/s]\n"
          ]
        }
      ]
    },
    {
      "cell_type": "markdown",
      "source": [
        "### Generating text prompts"
      ],
      "metadata": {
        "id": "A_XQL5ivwUCf"
      }
    },
    {
      "cell_type": "code",
      "source": [
        "class_names = full_train_dataset.classes\n",
        "print(\"Class names from dataset:\")\n",
        "print(class_names)"
      ],
      "metadata": {
        "colab": {
          "base_uri": "https://localhost:8080/"
        },
        "id": "_G09Lmw7wd_I",
        "outputId": "393b0815-b366-456c-9920-21f22051b0ef"
      },
      "execution_count": 10,
      "outputs": [
        {
          "output_type": "stream",
          "name": "stdout",
          "text": [
            "Class names from dataset:\n",
            "['airplane', 'automobile', 'bird', 'cat', 'deer', 'dog', 'frog', 'horse', 'ship', 'truck']\n"
          ]
        }
      ]
    },
    {
      "cell_type": "code",
      "source": [
        "prompts = [f\"a photo of a {class_name}\" for class_name in class_names]\n",
        "print(\"Text prompts:\")\n",
        "for prompt in prompts:\n",
        "  print(prompt)"
      ],
      "metadata": {
        "colab": {
          "base_uri": "https://localhost:8080/"
        },
        "id": "kjnk6wUjxFfY",
        "outputId": "390525c3-9b5d-4f98-a7d0-524b8017a285"
      },
      "execution_count": 11,
      "outputs": [
        {
          "output_type": "stream",
          "name": "stdout",
          "text": [
            "Text prompts:\n",
            "a photo of a airplane\n",
            "a photo of a automobile\n",
            "a photo of a bird\n",
            "a photo of a cat\n",
            "a photo of a deer\n",
            "a photo of a dog\n",
            "a photo of a frog\n",
            "a photo of a horse\n",
            "a photo of a ship\n",
            "a photo of a truck\n"
          ]
        }
      ]
    },
    {
      "cell_type": "code",
      "source": [
        "# Processing and tokenization\n",
        "text_inputs = CLIP_processor(\n",
        "    text=prompts,\n",
        "    return_tensors=\"pt\",\n",
        "    padding=True\n",
        ")\n",
        "text_inputs = {key: value.to(device) for key, value in text_inputs.items()}"
      ],
      "metadata": {
        "id": "wwHTigmaxpjW"
      },
      "execution_count": 12,
      "outputs": []
    },
    {
      "cell_type": "code",
      "source": [
        "# Normalization\n",
        "with torch.no_grad():\n",
        "    text_features = CLIP_model.get_text_features(**text_inputs)\n",
        "    text_features /= text_features.norm(dim=-1, keepdim=True)"
      ],
      "metadata": {
        "id": "YA3-IkyCxs4i"
      },
      "execution_count": 13,
      "outputs": []
    },
    {
      "cell_type": "code",
      "source": [
        "print(f\"Text features tensor shape: {text_features.shape}\")"
      ],
      "metadata": {
        "colab": {
          "base_uri": "https://localhost:8080/"
        },
        "id": "T3py1qJ6yHUX",
        "outputId": "f6dae289-dbba-4a26-8720-3e488c56d144"
      },
      "execution_count": null,
      "outputs": [
        {
          "output_type": "stream",
          "name": "stdout",
          "text": [
            "Text features tensor shape: torch.Size([10, 512])\n"
          ]
        }
      ]
    },
    {
      "cell_type": "markdown",
      "source": [
        "## 3: Evaluating CLIP on clean and adverse images"
      ],
      "metadata": {
        "id": "e3LE_kEJyh75"
      }
    },
    {
      "cell_type": "markdown",
      "source": [
        "### Clean Images"
      ],
      "metadata": {
        "id": "4CdVCQj10LGF"
      }
    },
    {
      "cell_type": "code",
      "source": [
        "def evaluate_clip(model, dataloader, text_features, device):\n",
        "\n",
        "    model.eval()\n",
        "\n",
        "    total_correct = 0\n",
        "    total_samples = 0\n",
        "\n",
        "    with torch.no_grad():\n",
        "        for images, labels in dataloader:\n",
        "            images = images.to(device)  # Already normalized\n",
        "            labels = labels.to(device)\n",
        "\n",
        "            image_features = model.get_image_features(pixel_values=images)\n",
        "            image_features /= image_features.norm(dim=-1, keepdim=True)\n",
        "\n",
        "            similarity = image_features @ text_features.T\n",
        "\n",
        "            predictions = similarity.argmax(dim=1)\n",
        "\n",
        "            total_correct += (predictions == labels).sum().item()\n",
        "            total_samples += labels.size(0)\n",
        "\n",
        "    accuracy = (total_correct / total_samples) * 100\n",
        "    return accuracy"
      ],
      "metadata": {
        "id": "Ac8RMWr40Kb3"
      },
      "execution_count": 14,
      "outputs": []
    },
    {
      "cell_type": "code",
      "source": [
        "test_accuracy = evaluate_clip(CLIP_model, test_loader, text_features, device)\n",
        "\n",
        "print(f\"CLIP's Zero-Shot Accuracy on CIFAR-10 test set (Clean images): {test_accuracy:.2f}%\")"
      ],
      "metadata": {
        "colab": {
          "base_uri": "https://localhost:8080/"
        },
        "id": "DjDdt--a1HxH",
        "outputId": "0716460f-5f88-41de-9b0b-5185a47a7a19"
      },
      "execution_count": null,
      "outputs": [
        {
          "output_type": "stream",
          "name": "stdout",
          "text": [
            "CLIP's Zero-Shot Accuracy on CIFAR-10 test set (Clean images): 87.83%\n"
          ]
        }
      ]
    },
    {
      "cell_type": "markdown",
      "source": [
        "### Adverse Images"
      ],
      "metadata": {
        "id": "N3iYYSjk3HX1"
      }
    },
    {
      "cell_type": "markdown",
      "source": [
        "#### Creating adverse dataset"
      ],
      "metadata": {
        "id": "7iIsAHGP5B8S"
      }
    },
    {
      "cell_type": "code",
      "source": [
        "def evaluate_CLIP_on_adversarial(clip_model, attack_model, dataloader, text_features, device):\n",
        "\n",
        "    clip_model.eval()\n",
        "    attack_model.eval()\n",
        "\n",
        "    for param in attack_model.parameters():\n",
        "        param.requires_grad = False\n",
        "\n",
        "    atk = torchattacks.PGD(attack_model, eps=8/255, alpha=2/255, steps=7)\n",
        "\n",
        "    total_correct = 0\n",
        "    total_samples = 0\n",
        "\n",
        "    for images, labels in dataloader:\n",
        "        images, labels = images.to(device), labels.to(device)\n",
        "\n",
        "        adv_images = atk(images, labels)\n",
        "\n",
        "        with torch.no_grad():\n",
        "            image_features = clip_model.get_image_features(pixel_values=adv_images)\n",
        "            image_features /= image_features.norm(dim=-1, keepdim=True)\n",
        "\n",
        "            similarity = image_features @ text_features.T\n",
        "            predictions = similarity.argmax(dim=1)\n",
        "\n",
        "            total_correct += (predictions == labels).sum().item()\n",
        "            total_samples += labels.size(0)\n",
        "\n",
        "    accuracy = (total_correct / total_samples) * 100\n",
        "    return accuracy"
      ],
      "metadata": {
        "id": "NHCrPHJ03Kwg"
      },
      "execution_count": null,
      "outputs": []
    },
    {
      "cell_type": "code",
      "source": [
        "adversarial_accuracy = evaluate_CLIP_on_adversarial(\n",
        "    clip_model=CLIP_model,\n",
        "    attack_model=adversarial_model,\n",
        "    dataloader=test_loader,\n",
        "    text_features=text_features,\n",
        "    device=device\n",
        ")\n",
        "\n",
        "print(f\"CLIP's Accuracy on Adversarial Examples: {adversarial_accuracy:.2f}%\")"
      ],
      "metadata": {
        "colab": {
          "base_uri": "https://localhost:8080/"
        },
        "id": "WhKu88p178Bx",
        "outputId": "4dab2637-6903-44d4-dded-35e51add6ce4"
      },
      "execution_count": null,
      "outputs": [
        {
          "output_type": "stream",
          "name": "stdout",
          "text": [
            "CLIP's Accuracy on Adversarial Examples: 54.88%\n"
          ]
        }
      ]
    },
    {
      "cell_type": "code",
      "source": [
        "############"
      ],
      "metadata": {
        "id": "4YBFUE88Gb3r"
      },
      "execution_count": null,
      "outputs": []
    },
    {
      "cell_type": "code",
      "source": [
        "atk = torchattacks.PGD(adversarial_model, eps=8/255, alpha=2/255, steps=7)\n",
        "\n",
        "num_samples = len(test_loader.dataset)\n",
        "sample_image, _ = test_loader.dataset[0]\n",
        "C, H, W = sample_image.shape\n",
        "\n",
        "adv_images_tensor = torch.empty((num_samples, C, H, W), dtype=torch.float32, device='cpu')\n",
        "labels_tensor = torch.empty((num_samples,), dtype=torch.long, device='cpu')\n",
        "\n",
        "start_idx = 0\n",
        "for images, labels in test_loader:\n",
        "    images = images.to(device)\n",
        "    labels_gpu = labels.to(device)\n",
        "\n",
        "    adv_batch = atk(images, labels_gpu)\n",
        "\n",
        "    end_idx = start_idx + len(images)\n",
        "\n",
        "    adv_images_tensor[start_idx:end_idx] = adv_batch.cpu()\n",
        "    labels_tensor[start_idx:end_idx] = labels.cpu()\n",
        "\n",
        "    start_idx = end_idx\n",
        "\n",
        "del images, labels, adv_batch\n",
        "gc.collect()\n",
        "torch.cuda.empty_cache()\n",
        "\n",
        "adversarial_dataset = TensorDataset(adv_images_tensor, labels_tensor)\n",
        "adversarial_loader = DataLoader(adversarial_dataset, batch_size=32, shuffle=False)"
      ],
      "metadata": {
        "id": "wkg4DbL3Gc_5"
      },
      "execution_count": 15,
      "outputs": []
    },
    {
      "cell_type": "code",
      "source": [
        "del adv_images_tensor\n",
        "del labels_tensor\n",
        "del adversarial_dataset\n",
        "\n",
        "gc.collect()"
      ],
      "metadata": {
        "colab": {
          "base_uri": "https://localhost:8080/"
        },
        "id": "JpTnkOI8Kwgs",
        "outputId": "6edea3f6-c38e-44b6-a6b7-1328ed711046"
      },
      "execution_count": 16,
      "outputs": [
        {
          "output_type": "execute_result",
          "data": {
            "text/plain": [
              "0"
            ]
          },
          "metadata": {},
          "execution_count": 16
        }
      ]
    },
    {
      "cell_type": "code",
      "source": [
        "adversarial_accuracy = evaluate_clip(CLIP_model, adversarial_loader, text_features, device)\n",
        "\n",
        "print(f\"CLIP's Accuracy on Adversarial Examples: {adversarial_accuracy:.2f}%\")"
      ],
      "metadata": {
        "colab": {
          "base_uri": "https://localhost:8080/"
        },
        "id": "vqy8emU3KYOz",
        "outputId": "dbd3a49a-f22e-4e85-d806-d8379705a652"
      },
      "execution_count": null,
      "outputs": [
        {
          "output_type": "stream",
          "name": "stdout",
          "text": [
            "CLIP's Accuracy on Adversarial Examples: 54.67%\n"
          ]
        }
      ]
    },
    {
      "cell_type": "markdown",
      "source": [
        "#### Show an example of adverse image"
      ],
      "metadata": {
        "id": "9iFyxcjHL9oA"
      }
    },
    {
      "cell_type": "code",
      "source": [
        "def unnormalize(tensor, mean, std):\n",
        "    tensor = tensor.clone().cpu()\n",
        "    for t, m, s in zip(tensor, mean, std):\n",
        "        t.mul_(s).add_(m)\n",
        "    return tensor.permute(1, 2, 0)"
      ],
      "metadata": {
        "id": "7_nD_5LIMIlA"
      },
      "execution_count": 17,
      "outputs": []
    },
    {
      "cell_type": "code",
      "source": [
        "sample_idx = 150\n",
        "original_image_tensor, original_label = test_dataset[sample_idx]\n",
        "\n",
        "original_image_for_attack = original_image_tensor.unsqueeze(0).to(device)\n",
        "original_label_tensor = torch.tensor([original_label]).to(device)\n",
        "\n",
        "atk.model.eval()\n",
        "adversarial_image_tensor = atk(original_image_for_attack, original_label_tensor).squeeze(0).cpu()\n",
        "\n",
        "noise_tensor = adversarial_image_tensor - original_image_tensor\n",
        "\n",
        "noise_to_show = (noise_tensor - noise_tensor.min()) / (noise_tensor.max() - noise_tensor.min())\n",
        "\n",
        "original_img_show = unnormalize(original_image_tensor, CLIP_MEAN, CLIP_STD)\n",
        "adversarial_img_show = unnormalize(adversarial_image_tensor, CLIP_MEAN, CLIP_STD)\n",
        "\n",
        "with torch.no_grad():\n",
        "    adv_img_for_pred = adversarial_image_tensor.unsqueeze(0).to(device)\n",
        "    adv_img_features = CLIP_model.get_image_features(pixel_values=adv_img_for_pred)\n",
        "    adv_img_features /= adv_img_features.norm(dim=-1, keepdim=True)\n",
        "    similarity = adv_img_features @ text_features.T\n",
        "    prediction_idx = similarity.argmax().item()\n",
        "    predicted_class = class_names[prediction_idx]\n",
        "\n",
        "fig, axs = plt.subplots(1, 3, figsize=(18, 6))\n",
        "fig.suptitle(\"Visualization of a Transfer Attack\", fontsize=16)\n",
        "\n",
        "axs[0].imshow(original_img_show.clamp(0, 1))\n",
        "axs[0].set_title(f\"Original Image\\nTrue Label: '{class_names[original_label]}'\")\n",
        "axs[0].axis('off')\n",
        "\n",
        "axs[1].imshow(noise_to_show.permute(1, 2, 0))\n",
        "axs[1].set_title(\"Adversarial Noise (Enhanced)\")\n",
        "axs[1].axis('off')\n",
        "\n",
        "axs[2].imshow(adversarial_img_show.clamp(0, 1))\n",
        "axs[2].set_title(f\"Adversarial Image\\nCLIP's Prediction: '{predicted_class}'\")\n",
        "axs[2].axis('off')\n",
        "\n",
        "plt.show()"
      ],
      "metadata": {
        "colab": {
          "base_uri": "https://localhost:8080/",
          "height": 481
        },
        "id": "4HVYnpQyLMNL",
        "outputId": "18bf830c-c9ad-4e77-9fba-f11dfbe63a1c"
      },
      "execution_count": null,
      "outputs": [
        {
          "output_type": "display_data",
          "data": {
            "text/plain": [
              "<Figure size 1800x600 with 3 Axes>"
            ],
            "image/png": "[encoded data removed]"
          },
          "metadata": {}
        }
      ]
    },
    {
      "cell_type": "markdown",
      "source": [
        "## 4: Finetuning CLIP model using LoRA method (Normal adversarial loss)"
      ],
      "metadata": {
        "id": "eAhbipLYM8rP"
      }
    },
    {
      "cell_type": "markdown",
      "source": [
        "### LoRA configue"
      ],
      "metadata": {
        "id": "MIDKJEMoOaJF"
      }
    },
    {
      "cell_type": "code",
      "source": [
        "lora_config = LoraConfig(\n",
        "    r=8,\n",
        "    lora_alpha=32,\n",
        "    target_modules=[\"q_proj\", \"k_proj\", \"v_proj\"],\n",
        "    lora_dropout=0.1,\n",
        "    bias=\"none\"\n",
        ")\n",
        "\n",
        "model = CLIPModel.from_pretrained(model_name).to(device)\n",
        "lora_model = get_peft_model(model.vision_model, lora_config)\n",
        "\n",
        "model.vision_model = lora_model\n",
        "\n",
        "lora_model.print_trainable_parameters()"
      ],
      "metadata": {
        "colab": {
          "base_uri": "https://localhost:8080/"
        },
        "id": "2XE8sAGL173D",
        "outputId": "f861c9ea-4dcb-42de-e423-9ffc9224f937"
      },
      "execution_count": null,
      "outputs": [
        {
          "output_type": "stream",
          "name": "stdout",
          "text": [
            "trainable params: 442,368 || all params: 87,898,368 || trainable%: 0.5033\n"
          ]
        }
      ]
    },
    {
      "cell_type": "markdown",
      "source": [
        "### Training model"
      ],
      "metadata": {
        "id": "b1bAHZSXOx6C"
      }
    },
    {
      "cell_type": "code",
      "source": [
        "num_train_samples_to_use = len(test_dataset)\n",
        "\n",
        "num_remaining_in_train = len(train_subset) - num_train_samples_to_use\n",
        "\n",
        "train_subset_10k, _ = random_split(\n",
        "    train_subset,\n",
        "    [num_train_samples_to_use, num_remaining_in_train],\n",
        "    generator=generator\n",
        ")\n",
        "\n",
        "train_loader_10k = DataLoader(train_subset_10k, batch_size=64, shuffle=True)"
      ],
      "metadata": {
        "id": "tOXLyNjaPBOu"
      },
      "execution_count": 22,
      "outputs": []
    },
    {
      "cell_type": "code",
      "source": [
        "model.train()\n",
        "\n",
        "optimizer = torch.optim.AdamW(model.parameters(), lr=1e-4)\n",
        "\n",
        "loss_fn = nn.CrossEntropyLoss()\n",
        "num_epochs = 1\n",
        "\n",
        "for epoch in range(num_epochs):\n",
        "    running_loss = 0.0\n",
        "    progress_bar = tqdm(train_loader_10k, desc=f\"Epoch {epoch+1}/{num_epochs}\")\n",
        "\n",
        "    for images, labels in progress_bar:\n",
        "        images, labels = images.to(device), labels.to(device)\n",
        "\n",
        "        adv_images = atk(images, labels)\n",
        "\n",
        "        image_features = model.get_image_features(pixel_values=adv_images)\n",
        "\n",
        "        logits = image_features @ text_features.T\n",
        "\n",
        "        loss = loss_fn(logits, labels)\n",
        "\n",
        "        optimizer.zero_grad()\n",
        "        loss.backward()\n",
        "        optimizer.step()\n",
        "\n",
        "        running_loss += loss.item()\n",
        "        progress_bar.set_postfix({\"Loss\": running_loss / (progress_bar.n + 1)})"
      ],
      "metadata": {
        "colab": {
          "base_uri": "https://localhost:8080/"
        },
        "id": "SnzsqkOJMXo0",
        "outputId": "b6b2dcc6-eadb-41d8-ce5d-123c1f51aa53"
      },
      "execution_count": null,
      "outputs": [
        {
          "output_type": "stream",
          "name": "stderr",
          "text": [
            "Epoch 1/1: 100%|██████████| 157/157 [06:39<00:00,  2.54s/it, Loss=0.78]\n"
          ]
        }
      ]
    },
    {
      "cell_type": "markdown",
      "source": [
        "### Evaluate finetuned model on clean images"
      ],
      "metadata": {
        "id": "3l-vUBWJU6Uc"
      }
    },
    {
      "cell_type": "code",
      "source": [
        "model.eval()\n",
        "\n",
        "clean_accuracy_after = evaluate_clip(model, test_loader, text_features, device)\n",
        "print(f\"Clean Accuracy after LoRA tuning: {clean_accuracy_after:.2f}%\")"
      ],
      "metadata": {
        "colab": {
          "base_uri": "https://localhost:8080/"
        },
        "id": "grPBXZxvMo1u",
        "outputId": "2da53c60-b371-4d12-8d54-87bb4395eef3"
      },
      "execution_count": null,
      "outputs": [
        {
          "output_type": "stream",
          "name": "stdout",
          "text": [
            "Clean Accuracy after LoRA tuning: 93.29%\n"
          ]
        }
      ]
    },
    {
      "cell_type": "markdown",
      "source": [
        "### Evaluate finetuned model on adverse images"
      ],
      "metadata": {
        "id": "qPtw_xKuVJog"
      }
    },
    {
      "cell_type": "code",
      "source": [
        "adversarial_accuracy_after = evaluate_clip(model, adversarial_loader, text_features, device)\n",
        "print(f\"Adversarial Accuracy after LoRA tuning: {adversarial_accuracy_after:.2f}%\")"
      ],
      "metadata": {
        "colab": {
          "base_uri": "https://localhost:8080/"
        },
        "id": "eLniNSV5Mqoa",
        "outputId": "07292227-b8c2-4548-c7e8-95a839202b61"
      },
      "execution_count": null,
      "outputs": [
        {
          "output_type": "stream",
          "name": "stdout",
          "text": [
            "Adversarial Accuracy after LoRA tuning: 83.68%\n"
          ]
        }
      ]
    },
    {
      "cell_type": "markdown",
      "source": [
        "## 5: Implementing TeCoA loss"
      ],
      "metadata": {
        "id": "1KpuqboCWoge"
      }
    },
    {
      "cell_type": "code",
      "source": [
        "lora_config = LoraConfig(\n",
        "    r=8,\n",
        "    lora_alpha=32,\n",
        "    target_modules=[\"q_proj\", \"k_proj\", \"v_proj\"],\n",
        "    lora_dropout=0.1,\n",
        "    bias=\"none\"\n",
        ")\n",
        "\n",
        "model = CLIPModel.from_pretrained(model_name).to(device)\n",
        "lora_model_tecoa = get_peft_model(model.vision_model, lora_config)\n",
        "\n",
        "model.vision_model = lora_model_tecoa\n",
        "\n",
        "lora_model_tecoa.print_trainable_parameters()"
      ],
      "metadata": {
        "colab": {
          "base_uri": "https://localhost:8080/"
        },
        "id": "ABZawEhAAVpB",
        "outputId": "81b8c3b0-d24e-4235-ee35-ca520671448a"
      },
      "execution_count": null,
      "outputs": [
        {
          "output_type": "stream",
          "name": "stdout",
          "text": [
            "trainable params: 442,368 || all params: 87,898,368 || trainable%: 0.5033\n"
          ]
        }
      ]
    },
    {
      "cell_type": "markdown",
      "source": [
        "### Training model"
      ],
      "metadata": {
        "id": "ZWHqb8L0aXxF"
      }
    },
    {
      "cell_type": "code",
      "source": [
        "############# 1\n",
        "model.train()\n",
        "optimizer = torch.optim.AdamW(model.parameters(), lr=1e-4)\n",
        "loss_fn = nn.CrossEntropyLoss()\n",
        "num_epochs = 1\n",
        "\n",
        "for epoch in range(num_epochs):\n",
        "    progress_bar = tqdm(train_loader_10k, desc=f\"Epoch {epoch+1}/{num_epochs} (TeCoA)\")\n",
        "\n",
        "    for images, labels in progress_bar:\n",
        "        images, labels = images.to(device), labels.to(device)\n",
        "\n",
        "        adv_images = atk(images, labels)\n",
        "\n",
        "\n",
        "        image_features = model.get_image_features(pixel_values=adv_images)\n",
        "        normalized_image_features = image_features / image_features.norm(dim=-1, keepdim=True)\n",
        "\n",
        "        logits = normalized_image_features @ text_features.T * model.logit_scale.exp()\n",
        "\n",
        "        loss = loss_fn(logits, labels)\n",
        "\n",
        "        optimizer.zero_grad()\n",
        "        loss.backward()\n",
        "        optimizer.step()\n",
        "\n",
        "        progress_bar.set_postfix({\"Loss\": loss.item()})\n"
      ],
      "metadata": {
        "colab": {
          "base_uri": "https://localhost:8080/"
        },
        "id": "WDGjc2isA0fl",
        "outputId": "514d9315-5c5a-4660-b1e8-45c38310f305"
      },
      "execution_count": null,
      "outputs": [
        {
          "output_type": "stream",
          "name": "stderr",
          "text": [
            "Epoch 1/1 (TeCoA): 100%|██████████| 157/157 [06:39<00:00,  2.54s/it, Loss=0.319]\n"
          ]
        }
      ]
    },
    {
      "cell_type": "code",
      "source": [
        "################ 2\n",
        "model.train()\n",
        "optimizer = torch.optim.AdamW(model.parameters(), lr=1e-3)\n",
        "loss_fn = nn.CrossEntropyLoss()\n",
        "num_epochs = 1\n",
        "\n",
        "for epoch in range(num_epochs):\n",
        "    progress_bar = tqdm(train_loader_10k, desc=f\"Epoch {epoch+1}/{num_epochs} (TeCoA)\")\n",
        "\n",
        "    for images, labels in progress_bar:\n",
        "        images, labels = images.to(device), labels.to(device)\n",
        "\n",
        "        adv_images = atk(images, labels)\n",
        "\n",
        "\n",
        "        image_features = model.get_image_features(pixel_values=adv_images)\n",
        "        normalized_image_features = image_features / image_features.norm(dim=-1, keepdim=True)\n",
        "\n",
        "        logits = normalized_image_features @ text_features.T * model.logit_scale.exp()\n",
        "\n",
        "        loss = loss_fn(logits, labels)\n",
        "\n",
        "        optimizer.zero_grad()\n",
        "        loss.backward()\n",
        "        optimizer.step()\n",
        "\n",
        "        progress_bar.set_postfix({\"Loss\": loss.item()})\n"
      ],
      "metadata": {
        "colab": {
          "base_uri": "https://localhost:8080/"
        },
        "id": "GNTOVXvDDpjs",
        "outputId": "7c2486cc-b372-4ef6-c695-a3acb437841b"
      },
      "execution_count": null,
      "outputs": [
        {
          "output_type": "stream",
          "name": "stderr",
          "text": [
            "Epoch 1/1 (TeCoA): 100%|██████████| 157/157 [06:38<00:00,  2.54s/it, Loss=0.413]\n"
          ]
        }
      ]
    },
    {
      "cell_type": "code",
      "source": [
        "################ 3\n",
        "model.train()\n",
        "optimizer = torch.optim.AdamW(model.parameters(), lr=5e-4)\n",
        "loss_fn = nn.CrossEntropyLoss()\n",
        "num_epochs = 1\n",
        "\n",
        "for epoch in range(num_epochs):\n",
        "    progress_bar = tqdm(train_loader_10k, desc=f\"Epoch {epoch+1}/{num_epochs} (TeCoA)\")\n",
        "\n",
        "    for images, labels in progress_bar:\n",
        "        images, labels = images.to(device), labels.to(device)\n",
        "\n",
        "        adv_images = atk(images, labels)\n",
        "\n",
        "\n",
        "        image_features = model.get_image_features(pixel_values=adv_images)\n",
        "        normalized_image_features = image_features / image_features.norm(dim=-1, keepdim=True)\n",
        "\n",
        "        logits = normalized_image_features @ text_features.T * model.logit_scale.exp()\n",
        "\n",
        "        loss = loss_fn(logits, labels)\n",
        "\n",
        "        optimizer.zero_grad()\n",
        "        loss.backward()\n",
        "        optimizer.step()\n",
        "\n",
        "        progress_bar.set_postfix({\"Loss\": loss.item()})\n"
      ],
      "metadata": {
        "colab": {
          "base_uri": "https://localhost:8080/"
        },
        "id": "r_mQrl28QTsQ",
        "outputId": "01b1616f-e286-4e6a-b27c-a440f927b568"
      },
      "execution_count": null,
      "outputs": [
        {
          "output_type": "stream",
          "name": "stderr",
          "text": [
            "Epoch 1/1 (TeCoA): 100%|██████████| 157/157 [06:39<00:00,  2.54s/it, Loss=0.569]\n"
          ]
        }
      ]
    },
    {
      "cell_type": "markdown",
      "source": [
        "### Evaluate finetuned model on clean images (TeCoA loss)"
      ],
      "metadata": {
        "id": "HF25Fz1fagb3"
      }
    },
    {
      "cell_type": "code",
      "source": [
        "##############1\n",
        "model.eval()\n",
        "\n",
        "clean_accuracy_after_tecoa = evaluate_clip(model, test_loader, text_features, device)\n",
        "print(f\"Clean Accuracy after LoRA tuning (TeCoA loss): {clean_accuracy_after_tecoa:.2f}%\")"
      ],
      "metadata": {
        "colab": {
          "base_uri": "https://localhost:8080/"
        },
        "id": "SadUfiQPC_bD",
        "outputId": "b39d2e20-8677-48f6-f08d-1e4d9195c2dd"
      },
      "execution_count": null,
      "outputs": [
        {
          "output_type": "stream",
          "name": "stdout",
          "text": [
            "Clean Accuracy after LoRA tuning (TeCoA loss): 93.09%\n"
          ]
        }
      ]
    },
    {
      "cell_type": "code",
      "source": [
        "############## 2\n",
        "model.eval()\n",
        "\n",
        "clean_accuracy_after_tecoa = evaluate_clip(model, test_loader, text_features, device)\n",
        "print(f\"Clean Accuracy after LoRA tuning (TeCoA loss): {clean_accuracy_after_tecoa:.2f}%\")"
      ],
      "metadata": {
        "colab": {
          "base_uri": "https://localhost:8080/"
        },
        "id": "lvzAJMP-D-Wp",
        "outputId": "06fe0c93-c6a3-4ee7-9a75-f59c87ace768"
      },
      "execution_count": null,
      "outputs": [
        {
          "output_type": "stream",
          "name": "stdout",
          "text": [
            "Clean Accuracy after LoRA tuning (TeCoA loss): 90.08%\n"
          ]
        }
      ]
    },
    {
      "cell_type": "code",
      "source": [
        "############## 3\n",
        "model.eval()\n",
        "\n",
        "clean_accuracy_after_tecoa = evaluate_clip(model, test_loader, text_features, device)\n",
        "print(f\"Clean Accuracy after LoRA tuning (TeCoA loss): {clean_accuracy_after_tecoa:.2f}%\")"
      ],
      "metadata": {
        "colab": {
          "base_uri": "https://localhost:8080/"
        },
        "id": "bcm6-xGIQbX_",
        "outputId": "e557d438-3650-4f21-9ede-a72fe1781444"
      },
      "execution_count": null,
      "outputs": [
        {
          "output_type": "stream",
          "name": "stdout",
          "text": [
            "Clean Accuracy after LoRA tuning (TeCoA loss): 88.14%\n"
          ]
        }
      ]
    },
    {
      "cell_type": "markdown",
      "source": [
        "### Evaluate finetuned model on adverse images (TeCoA loss)"
      ],
      "metadata": {
        "id": "fHtWQQEnagb4"
      }
    },
    {
      "cell_type": "code",
      "source": [
        "############## 1\n",
        "adversarial_accuracy_after_tecoa = evaluate_clip(model, adversarial_loader, text_features, device)\n",
        "print(f\"Adversarial Accuracy after LoRA tuning (TeCoA loss): {adversarial_accuracy_after_tecoa:.2f}%\")"
      ],
      "metadata": {
        "colab": {
          "base_uri": "https://localhost:8080/"
        },
        "id": "XF-hKoRUDHNI",
        "outputId": "fd2fa8f0-6bf6-406d-e047-f5246cd18307"
      },
      "execution_count": null,
      "outputs": [
        {
          "output_type": "stream",
          "name": "stdout",
          "text": [
            "Adversarial Accuracy after LoRA tuning (TeCoA loss): 83.54%\n"
          ]
        }
      ]
    },
    {
      "cell_type": "code",
      "source": [
        "############## 2\n",
        "adversarial_accuracy_after_tecoa = evaluate_clip(model, adversarial_loader, text_features, device)\n",
        "print(f\"Adversarial Accuracy after LoRA tuning (TeCoA loss): {adversarial_accuracy_after_tecoa:.2f}%\")"
      ],
      "metadata": {
        "colab": {
          "base_uri": "https://localhost:8080/"
        },
        "id": "V2iJ0ciTEBfG",
        "outputId": "0a9dbc40-0aa0-4933-df90-265479d7aac0"
      },
      "execution_count": null,
      "outputs": [
        {
          "output_type": "stream",
          "name": "stdout",
          "text": [
            "Adversarial Accuracy after LoRA tuning (TeCoA loss): 85.28%\n"
          ]
        }
      ]
    },
    {
      "cell_type": "code",
      "source": [
        "############## 3\n",
        "adversarial_accuracy_after_tecoa = evaluate_clip(model, adversarial_loader, text_features, device)\n",
        "print(f\"Adversarial Accuracy after LoRA tuning (TeCoA loss): {adversarial_accuracy_after_tecoa:.2f}%\")"
      ],
      "metadata": {
        "colab": {
          "base_uri": "https://localhost:8080/"
        },
        "id": "hc6RMKmAQdUg",
        "outputId": "8e9e37b3-ffeb-4736-94ab-494d2d0698c3"
      },
      "execution_count": null,
      "outputs": [
        {
          "output_type": "stream",
          "name": "stdout",
          "text": [
            "Adversarial Accuracy after LoRA tuning (TeCoA loss): 86.50%\n"
          ]
        }
      ]
    },
    {
      "cell_type": "markdown",
      "source": [
        "## 7: Visual Prompting Tuning (VPT)"
      ],
      "metadata": {
        "id": "nqZriENLgXJV"
      }
    },
    {
      "cell_type": "code",
      "source": [
        "vpt_model = CLIPModel.from_pretrained(model_name).to(device)\n",
        "\n",
        "for param in vpt_model.parameters():\n",
        "    param.requires_grad = False"
      ],
      "metadata": {
        "id": "r4r3EnwKgmlF"
      },
      "execution_count": 29,
      "outputs": []
    },
    {
      "cell_type": "markdown",
      "source": [
        "### Adding 10 tokens to input images"
      ],
      "metadata": {
        "id": "UAWryyUR4Qtd"
      }
    },
    {
      "cell_type": "code",
      "source": [
        "###### 1\n",
        "prompt_length = 10\n",
        "embed_dim = vpt_model.config.vision_config.hidden_size\n",
        "visual_prompt = nn.Parameter(torch.randn(1, prompt_length, embed_dim, device=device))\n",
        "visual_prompt.requires_grad = True\n",
        "\n",
        "print(f\"Visual Prompt shape: {visual_prompt.shape}\")\n",
        "print(f\"Total trainable parameters: {sum(p.numel() for p in vpt_model.parameters() if p.requires_grad) + visual_prompt.numel()}\")\n"
      ],
      "metadata": {
        "colab": {
          "base_uri": "https://localhost:8080/"
        },
        "id": "2yAq4Q8I4Pmh",
        "outputId": "3dbf2424-bd7a-4723-8ff2-6571f4434cf1"
      },
      "execution_count": 28,
      "outputs": [
        {
          "output_type": "stream",
          "name": "stdout",
          "text": [
            "Visual Prompt shape: torch.Size([1, 10, 768])\n",
            "Total trainable parameters: 7680\n"
          ]
        }
      ]
    },
    {
      "cell_type": "code",
      "source": [
        "def get_image_features_with_prompt(model, pixel_values, prompt):\n",
        "\n",
        "    image_embeds = model.vision_model.embeddings(pixel_values)\n",
        "\n",
        "    prompt_batch = prompt.expand(image_embeds.shape[0], -1, -1)\n",
        "    input_with_prompt = torch.cat([\n",
        "        image_embeds[:, :1, :],\n",
        "        prompt_batch,\n",
        "        image_embeds[:, 1:, :]\n",
        "    ], dim=1)\n",
        "\n",
        "    hidden_states = model.vision_model.pre_layrnorm(input_with_prompt)\n",
        "\n",
        "\n",
        "    encoder_outputs = model.vision_model.encoder(hidden_states)\n",
        "\n",
        "    pooled_output = encoder_outputs.last_hidden_state[:, 0, :]\n",
        "    pooled_output = model.vision_model.post_layernorm(pooled_output)\n",
        "\n",
        "    projected_output = model.visual_projection(pooled_output)\n",
        "\n",
        "    return projected_output"
      ],
      "metadata": {
        "id": "8xezwNQZ4i_A"
      },
      "execution_count": 20,
      "outputs": []
    },
    {
      "cell_type": "markdown",
      "source": [
        "### Training model"
      ],
      "metadata": {
        "id": "0CgzaI1Q4_81"
      }
    },
    {
      "cell_type": "code",
      "source": [
        "##### 1 epoch\n",
        "optimizer_vpt = torch.optim.AdamW([visual_prompt], lr=1e-2)\n",
        "\n",
        "loss_fn = nn.CrossEntropyLoss()\n",
        "num_epochs = 1\n",
        "\n",
        "vpt_model.train()\n",
        "\n",
        "for epoch in range(num_epochs):\n",
        "    progress_bar = tqdm(train_loader_10k, desc=f\"Epoch {epoch+1}/{num_epochs} (VPT + TeCoA)\")\n",
        "\n",
        "    for images, labels in progress_bar:\n",
        "        images, labels = images.to(device), labels.to(device)\n",
        "\n",
        "        adv_images = atk(images, labels)\n",
        "\n",
        "        image_features = get_image_features_with_prompt(vpt_model, adv_images, visual_prompt)\n",
        "\n",
        "        normalized_image_features = image_features / image_features.norm(dim=-1, keepdim=True)\n",
        "        logits = normalized_image_features @ text_features.T * vpt_model.logit_scale.exp()\n",
        "\n",
        "        loss = loss_fn(logits, labels)\n",
        "\n",
        "        optimizer_vpt.zero_grad()\n",
        "        loss.backward()\n",
        "        optimizer_vpt.step()\n",
        "\n",
        "        progress_bar.set_postfix({\"Loss\": loss.item()})"
      ],
      "metadata": {
        "colab": {
          "base_uri": "https://localhost:8080/"
        },
        "id": "TxDsdvdQ5BWF",
        "outputId": "e1030c42-2d69-4fd1-956b-5fa2d88a5809"
      },
      "execution_count": null,
      "outputs": [
        {
          "output_type": "stream",
          "name": "stderr",
          "text": [
            "Epoch 1/1 (VPT + TeCoA): 100%|██████████| 157/157 [06:43<00:00,  2.57s/it, Loss=0.642]\n"
          ]
        }
      ]
    },
    {
      "cell_type": "code",
      "source": [
        "##### 5 epochs\n",
        "optimizer_vpt = torch.optim.AdamW([visual_prompt], lr=1e-2)\n",
        "\n",
        "loss_fn = nn.CrossEntropyLoss()\n",
        "num_epochs = 5\n",
        "\n",
        "vpt_model.train()\n",
        "\n",
        "for epoch in range(num_epochs):\n",
        "    progress_bar = tqdm(train_loader_10k, desc=f\"Epoch {epoch+1}/{num_epochs} (VPT + TeCoA)\")\n",
        "\n",
        "    for images, labels in progress_bar:\n",
        "        images, labels = images.to(device), labels.to(device)\n",
        "\n",
        "        adv_images = atk(images, labels)\n",
        "\n",
        "        image_features = get_image_features_with_prompt(vpt_model, adv_images, visual_prompt)\n",
        "\n",
        "        normalized_image_features = image_features / image_features.norm(dim=-1, keepdim=True)\n",
        "        logits = normalized_image_features @ text_features.T * vpt_model.logit_scale.exp()\n",
        "\n",
        "        loss = loss_fn(logits, labels)\n",
        "\n",
        "        optimizer_vpt.zero_grad()\n",
        "        loss.backward()\n",
        "        optimizer_vpt.step()\n",
        "\n",
        "        progress_bar.set_postfix({\"Loss\": loss.item()})"
      ],
      "metadata": {
        "colab": {
          "base_uri": "https://localhost:8080/"
        },
        "id": "q1daMywpZ2co",
        "outputId": "38869435-c851-411e-9fd4-24060561452f"
      },
      "execution_count": 30,
      "outputs": [
        {
          "output_type": "stream",
          "name": "stderr",
          "text": [
            "Epoch 1/5 (VPT + TeCoA): 100%|██████████| 157/157 [06:54<00:00,  2.64s/it, Loss=0.835]\n",
            "Epoch 2/5 (VPT + TeCoA): 100%|██████████| 157/157 [06:50<00:00,  2.61s/it, Loss=0.645]\n",
            "Epoch 3/5 (VPT + TeCoA): 100%|██████████| 157/157 [06:50<00:00,  2.61s/it, Loss=0.675]\n",
            "Epoch 4/5 (VPT + TeCoA): 100%|██████████| 157/157 [06:50<00:00,  2.61s/it, Loss=0.75]\n",
            "Epoch 5/5 (VPT + TeCoA): 100%|██████████| 157/157 [06:49<00:00,  2.61s/it, Loss=0.974]\n"
          ]
        }
      ]
    },
    {
      "cell_type": "markdown",
      "source": [
        "### Evaluate VPT model on clean images (TeCoA loss)"
      ],
      "metadata": {
        "id": "2ticpd4o7hss"
      }
    },
    {
      "cell_type": "code",
      "source": [
        "def evaluate_vpt(model, prompt, dataloader, text_features, device):\n",
        "\n",
        "    model.eval()\n",
        "    total_correct = 0\n",
        "    total_samples = 0\n",
        "\n",
        "    with torch.no_grad():\n",
        "        progress_bar = tqdm(dataloader, desc=\"Clean Eval (VPT)\")\n",
        "        for images, labels in progress_bar:\n",
        "            images, labels = images.to(device), labels.to(device)\n",
        "\n",
        "            image_features = get_image_features_with_prompt(model, images, prompt)\n",
        "\n",
        "            image_features /= image_features.norm(dim=-1, keepdim=True)\n",
        "            logits = image_features @ text_features.T * model.logit_scale.exp()\n",
        "            predictions = logits.argmax(dim=1)\n",
        "\n",
        "            total_correct += (predictions == labels).sum().item()\n",
        "            total_samples += len(labels)\n",
        "\n",
        "    accuracy = (total_correct / total_samples) * 100\n",
        "    return accuracy"
      ],
      "metadata": {
        "id": "1ByxcLW8738w"
      },
      "execution_count": 25,
      "outputs": []
    },
    {
      "cell_type": "code",
      "source": [
        "######## 1 epoch\n",
        "vpt_model.eval()\n",
        "\n",
        "clean_accuracy_vpt = evaluate_vpt(vpt_model, visual_prompt, test_loader, text_features, device)\n",
        "print(f\"Clean Accuracy after VPT tuning: {clean_accuracy_vpt:.2f}%\")"
      ],
      "metadata": {
        "colab": {
          "base_uri": "https://localhost:8080/"
        },
        "outputId": "4eb12bcf-f94a-4475-87cc-8f4b604617e0",
        "id": "H7SdNqL47hst"
      },
      "execution_count": null,
      "outputs": [
        {
          "output_type": "stream",
          "name": "stderr",
          "text": [
            "Clean Eval (VPT): 100%|██████████| 313/313 [00:36<00:00,  8.47it/s]"
          ]
        },
        {
          "output_type": "stream",
          "name": "stdout",
          "text": [
            "Clean Accuracy after VPT tuning: 86.82%\n"
          ]
        },
        {
          "output_type": "stream",
          "name": "stderr",
          "text": [
            "\n"
          ]
        }
      ]
    },
    {
      "cell_type": "code",
      "source": [
        "####### 5 epoch\n",
        "vpt_model.eval()\n",
        "\n",
        "clean_accuracy_vpt = evaluate_vpt(vpt_model, visual_prompt, test_loader, text_features, device)\n",
        "print(f\"Clean Accuracy after VPT tuning: {clean_accuracy_vpt:.2f}%\")"
      ],
      "metadata": {
        "colab": {
          "base_uri": "https://localhost:8080/"
        },
        "id": "Eg7SsrEKaBOu",
        "outputId": "6f7fc128-34c6-4bad-d6a3-ca185d5fc32a"
      },
      "execution_count": 31,
      "outputs": [
        {
          "output_type": "stream",
          "name": "stderr",
          "text": [
            "Clean Eval (VPT): 100%|██████████| 313/313 [00:38<00:00,  8.18it/s]"
          ]
        },
        {
          "output_type": "stream",
          "name": "stdout",
          "text": [
            "Clean Accuracy after VPT tuning: 88.52%\n"
          ]
        },
        {
          "output_type": "stream",
          "name": "stderr",
          "text": [
            "\n"
          ]
        }
      ]
    },
    {
      "cell_type": "markdown",
      "source": [
        "### Evaluate VPT model on adverse images (TeCoA loss)"
      ],
      "metadata": {
        "id": "rHf2JZ_w7hsu"
      }
    },
    {
      "cell_type": "code",
      "source": [
        "###### 1 epoch\n",
        "adversarial_accuracy_vpt = evaluate_vpt(vpt_model, visual_prompt, adversarial_loader, text_features, device)\n",
        "print(f\"Adversarial Accuracy after VPT tuning: {adversarial_accuracy_vpt:.2f}%\")"
      ],
      "metadata": {
        "colab": {
          "base_uri": "https://localhost:8080/"
        },
        "outputId": "1d5bd7db-83ee-484f-8e66-19ffd497e32c",
        "id": "hW4W_6k97hsu"
      },
      "execution_count": null,
      "outputs": [
        {
          "output_type": "stream",
          "name": "stderr",
          "text": [
            "Clean Eval (VPT): 100%|██████████| 313/313 [00:34<00:00,  9.09it/s]"
          ]
        },
        {
          "output_type": "stream",
          "name": "stdout",
          "text": [
            "Adversarial Accuracy after VPT tuning: 64.14%\n"
          ]
        },
        {
          "output_type": "stream",
          "name": "stderr",
          "text": [
            "\n"
          ]
        }
      ]
    },
    {
      "cell_type": "code",
      "source": [
        "###### 2 epochs\n",
        "adversarial_accuracy_vpt = evaluate_vpt(vpt_model, visual_prompt, adversarial_loader, text_features, device)\n",
        "print(f\"Adversarial Accuracy after VPT tuning: {adversarial_accuracy_vpt:.2f}%\")"
      ],
      "metadata": {
        "colab": {
          "base_uri": "https://localhost:8080/"
        },
        "id": "8wKBTqrOaFVY",
        "outputId": "12a5e3f2-ae9f-447d-b5cd-b3c0be30c24f"
      },
      "execution_count": 32,
      "outputs": [
        {
          "output_type": "stream",
          "name": "stderr",
          "text": [
            "Clean Eval (VPT): 100%|██████████| 313/313 [00:35<00:00,  8.79it/s]"
          ]
        },
        {
          "output_type": "stream",
          "name": "stdout",
          "text": [
            "Adversarial Accuracy after VPT tuning: 74.02%\n"
          ]
        },
        {
          "output_type": "stream",
          "name": "stderr",
          "text": [
            "\n"
          ]
        }
      ]
    }
  ]
}